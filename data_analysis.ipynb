{
 "cells": [
  {
   "cell_type": "code",
   "execution_count": null,
   "source": [
    "import pandas as pd\n",
    "import numpy as np\n",
    "from tqdm import tqdm_notebook"
   ],
   "outputs": [],
   "metadata": {}
  },
  {
   "cell_type": "code",
   "execution_count": null,
   "source": [
    "file_path = './episodes/ep0.csv'"
   ],
   "outputs": [],
   "metadata": {}
  },
  {
   "cell_type": "code",
   "execution_count": null,
   "source": [
    "data = pd.read_csv(file_path)"
   ],
   "outputs": [],
   "metadata": {}
  },
  {
   "cell_type": "code",
   "execution_count": null,
   "source": [
    "data = data[data['obj'].isin(['uav1','simulation_car1', 'simulation_pedestrian1'])]"
   ],
   "outputs": [],
   "metadata": {}
  },
  {
   "cell_type": "code",
   "execution_count": null,
   "source": [
    "print(\"min: \", min(data['orien_w']), min(data['orien_x']), min(data['orien_y']), min(data['orien_z']))\n",
    "print(\"max: \", max(data['orien_w']), max(data['orien_x']), max(data['orien_y']), max(data['orien_z']))"
   ],
   "outputs": [],
   "metadata": {}
  },
  {
   "cell_type": "code",
   "execution_count": null,
   "source": [
    "min_list = {'x':10000000000,\n",
    "            'w':10000000000,\n",
    "            'z':10000000000,\n",
    "            'y':10000000000}\n",
    "max_list = {'x':-10000000000,\n",
    "            'w':-10000000000,\n",
    "            'z':-10000000000,\n",
    "            'y':-10000000000}\n",
    "for ep in tqdm_notebook(range(0, 500)):\n",
    "    file_path = './episodes/ep' + str(ep) + '.csv'\n",
    "    data = pd.read_csv(file_path)\n",
    "    data = data[data['obj'].isin(['uav1','simulation_car1', 'simulation_pedestrian1'])]\n",
    "    for l in ['w', 'x', 'y', 'z']:\n",
    "        min_list[l] = min(min_list[l], min(data['orien_' + l]))\n",
    "        max_list[l] = max(max_list[l], max(data['orien_' + l]))\n",
    "    print(ep)\n",
    "    # print(\"min: \", min(data['orien_w']), min(data['orien_x']), min(data['orien_y']), min(data['orien_z']))\n",
    "    # print(\"max: \", max(data['orien_w']), max(data['orien_x']), max(data['orien_y']), max(data['orien_z']))"
   ],
   "outputs": [],
   "metadata": {}
  },
  {
   "cell_type": "code",
   "execution_count": null,
   "source": [
    "print(min_list, max_list)"
   ],
   "outputs": [],
   "metadata": {}
  }
 ],
 "metadata": {
  "orig_nbformat": 4,
  "language_info": {
   "name": "python",
   "version": "3.6.9",
   "mimetype": "text/x-python",
   "codemirror_mode": {
    "name": "ipython",
    "version": 3
   },
   "pygments_lexer": "ipython3",
   "nbconvert_exporter": "python",
   "file_extension": ".py"
  },
  "kernelspec": {
   "name": "python3",
   "display_name": "Python 3.6.9 64-bit ('torch_rl': venv)"
  },
  "interpreter": {
   "hash": "f8337d322f02065436781250dc8881439cca8a58f1212dae4e4294dbbc4e4375"
  }
 },
 "nbformat": 4,
 "nbformat_minor": 2
}