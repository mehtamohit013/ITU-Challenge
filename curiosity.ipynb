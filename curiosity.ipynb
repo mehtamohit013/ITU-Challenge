{
 "cells": [
  {
   "cell_type": "code",
   "execution_count": 1,
   "metadata": {
    "ExecuteTime": {
     "end_time": "2021-10-15T11:50:44.971403Z",
     "start_time": "2021-10-15T11:50:36.077452Z"
    }
   },
   "outputs": [],
   "source": [
    "import torch\n",
    "import torch.nn as nn\n",
    "import torch.optim as optim\n",
    "import torch.nn.functional as F\n",
    "from torch.utils.tensorboard import SummaryWriter\n",
    "\n",
    "import tqdm\n",
    "import pickle\n",
    "import math\n",
    "import random\n",
    "import numpy as np\n",
    "import matplotlib\n",
    "import matplotlib.pyplot as plt\n",
    "from collections import namedtuple, deque\n",
    "from itertools import count\n",
    "import copy\n",
    "# import multiprocessing as mp\n",
    "from torch.multiprocessing import Pipe\n",
    "import os\n",
    "\n",
    "import gym\n",
    "\n",
    "# set up matplotlib\n",
    "is_ipython = 'inline' in matplotlib.get_backend()\n",
    "if is_ipython:\n",
    "    from IPython import display\n",
    "\n",
    "plt.ion()"
   ]
  },
  {
   "cell_type": "code",
   "execution_count": 2,
   "metadata": {
    "ExecuteTime": {
     "end_time": "2021-10-15T11:50:44.979169Z",
     "start_time": "2021-10-15T11:50:44.974998Z"
    }
   },
   "outputs": [],
   "source": [
    "device = torch.device(\"cpu\")"
   ]
  },
  {
   "cell_type": "code",
   "execution_count": 3,
   "metadata": {
    "ExecuteTime": {
     "end_time": "2021-10-15T11:50:48.103866Z",
     "start_time": "2021-10-15T11:50:44.982060Z"
    }
   },
   "outputs": [],
   "source": [
    "import caviar_tools\n",
    "from beamselect_env import BeamSelectionEnv"
   ]
  },
  {
   "cell_type": "markdown",
   "metadata": {},
   "source": [
    "# Gym Env"
   ]
  },
  {
   "cell_type": "code",
   "execution_count": 4,
   "metadata": {
    "ExecuteTime": {
     "end_time": "2021-10-15T11:51:03.660178Z",
     "start_time": "2021-10-15T11:50:48.106672Z"
    }
   },
   "outputs": [
    {
     "name": "stderr",
     "output_type": "stream",
     "text": [
      "/home/mohit/anaconda3/envs/ITU/lib/python3.6/site-packages/gym/logger.py:30: UserWarning: \u001b[33mWARN: Box bound precision lowered by casting to float32\u001b[0m\n",
      "  warnings.warn(colorize('%s: %s'%('WARN', msg % args), 'yellow'))\n"
     ]
    }
   ],
   "source": [
    "reward_type = 'test'    # 'test' or 'train'\n",
    "epi = [0,9] #[start,end] \n",
    "epi_val = [500,505]\n",
    "\n",
    "gym_env_train = BeamSelectionEnv([0,0],reward_type)\n",
    "\n",
    "# gym_env_ind = list()\n",
    "# for i in range(epi[0],epi[1]+1):\n",
    "#     gym_env_ind.append(BeamSelectionEnv([i,i],reward_type))\n",
    "    \n",
    "# gym_env_ind_val = list()\n",
    "# for i in range(epi_val[0],epi_val[1]+1):\n",
    "#     gym_env_ind_val.append(BeamSelectionEnv([i,i]))\n",
    "\n",
    "# gym_env_val = BeamSelectionEnv(epi_val)"
   ]
  },
  {
   "cell_type": "code",
   "execution_count": 5,
   "metadata": {
    "ExecuteTime": {
     "end_time": "2021-10-15T11:51:12.463425Z",
     "start_time": "2021-10-15T11:51:03.663672Z"
    }
   },
   "outputs": [],
   "source": [
    "n_steps_epi = list()\n",
    "n_steps_epi_val = list()\n",
    "for i in range(epi[0],epi[1]+1):\n",
    "    n_steps_epi.append(caviar_tools.linecount([i,i]))\n",
    "\n",
    "for i in range(epi_val[0],epi_val[1]+1):\n",
    "    n_steps_epi_val.append(caviar_tools.linecount([i,i]))\n",
    "\n",
    "n_steps = sum(n_steps_epi)\n",
    "n_steps_val = sum(n_steps_epi_val)"
   ]
  },
  {
   "cell_type": "code",
   "execution_count": 6,
   "metadata": {
    "ExecuteTime": {
     "end_time": "2021-10-15T11:51:12.473776Z",
     "start_time": "2021-10-15T11:51:12.468360Z"
    }
   },
   "outputs": [],
   "source": [
    "train_method = 'ICM'\n",
    "env_id = None #BreakoutNoFrameskip-v4\n",
    "env_type = 'beamselect'"
   ]
  },
  {
   "cell_type": "markdown",
   "metadata": {},
   "source": [
    "# Hyper Params"
   ]
  },
  {
   "cell_type": "code",
   "execution_count": 7,
   "metadata": {
    "ExecuteTime": {
     "end_time": "2021-10-15T11:51:12.625724Z",
     "start_time": "2021-10-15T11:51:12.477747Z"
    }
   },
   "outputs": [],
   "source": [
    "lam = 0.95\n",
    "num_worker = 2\n",
    "\n",
    "num_step = int(256)\n",
    "\n",
    "ppo_eps = float(0.1)\n",
    "epoch = int(3)\n",
    "mini_batch = int(8)\n",
    "BATCH_SIZE = int(num_step * num_worker / mini_batch) #16\n",
    "learning_rate = float(1e-4)\n",
    "entropy_coef = float(0.001)\n",
    "gamma = float(0.8)\n",
    "eta = float(1)\n",
    "\n",
    "clip_grad_norm = float(0.5)\n",
    "\n",
    "pre_obs_norm_step = int(3000)#int(10000) Not much effect\n",
    "\n",
    "HISTORY_SIZE = BATCH_SIZE*2\n",
    "STATES_USED = 13"
   ]
  },
  {
   "cell_type": "code",
   "execution_count": 8,
   "metadata": {
    "ExecuteTime": {
     "end_time": "2021-10-15T11:51:12.734636Z",
     "start_time": "2021-10-15T11:51:12.628473Z"
    }
   },
   "outputs": [],
   "source": [
    "model_path = './model_state_dict/model_curiosity'\n",
    "icm_path = './model_state_dict/icm_curiosity'\n",
    "os.makedirs('./model_state_dict',exist_ok=True)"
   ]
  },
  {
   "cell_type": "markdown",
   "metadata": {},
   "source": [
    "# States and Agent"
   ]
  },
  {
   "cell_type": "code",
   "execution_count": 9,
   "metadata": {
    "ExecuteTime": {
     "end_time": "2021-10-15T11:51:12.832643Z",
     "start_time": "2021-10-15T11:51:12.738232Z"
    }
   },
   "outputs": [],
   "source": [
    "input_size = [BATCH_SIZE,STATES_USED]  \n",
    "output_size = 192 #64*3"
   ]
  },
  {
   "cell_type": "code",
   "execution_count": 10,
   "metadata": {
    "ExecuteTime": {
     "end_time": "2021-10-15T11:51:13.035713Z",
     "start_time": "2021-10-15T11:51:12.835160Z"
    }
   },
   "outputs": [],
   "source": [
    "from utils_cur import *\n",
    "from agents_cur import *"
   ]
  },
  {
   "cell_type": "code",
   "execution_count": 11,
   "metadata": {
    "ExecuteTime": {
     "end_time": "2021-10-15T11:51:13.118768Z",
     "start_time": "2021-10-15T11:51:13.038089Z"
    }
   },
   "outputs": [],
   "source": [
    "reward_rms = RunningMeanStd()\n",
    "obs_rms = RunningMeanStd(shape=(1, BATCH_SIZE, 1, STATES_USED))\n",
    "\n",
    "\n",
    "discounted_reward = RewardForwardFilter(gamma)\n",
    "\n",
    "agent = ICMAgent"
   ]
  },
  {
   "cell_type": "code",
   "execution_count": 12,
   "metadata": {
    "ExecuteTime": {
     "end_time": "2021-10-15T11:51:13.765659Z",
     "start_time": "2021-10-15T11:51:13.120896Z"
    }
   },
   "outputs": [],
   "source": [
    "agent = agent(\n",
    "        input_size,\n",
    "        output_size,\n",
    "        num_worker,\n",
    "        num_step,\n",
    "        gamma,\n",
    "        lam=lam,\n",
    "        learning_rate=learning_rate,\n",
    "        ent_coef=entropy_coef,\n",
    "        clip_grad_norm=clip_grad_norm,\n",
    "        epoch=epoch,\n",
    "        batch_size=BATCH_SIZE,\n",
    "        ppo_eps=ppo_eps,\n",
    "        eta=eta,\n",
    "        use_cuda=False,\n",
    "        use_gae=False,\n",
    "        use_noisy_net=False\n",
    "    )"
   ]
  },
  {
   "cell_type": "code",
   "execution_count": 13,
   "metadata": {
    "ExecuteTime": {
     "end_time": "2021-10-15T11:51:13.774562Z",
     "start_time": "2021-10-15T11:51:13.768363Z"
    }
   },
   "outputs": [],
   "source": [
    "states = np.zeros([1, BATCH_SIZE, 1,STATES_USED])\n",
    "\n",
    "sample_episode = 0\n",
    "sample_rall = 0\n",
    "sample_step = 0\n",
    "sample_env_idx = 0\n",
    "sample_i_rall = 0\n",
    "global_update = 0\n"
   ]
  },
  {
   "cell_type": "code",
   "execution_count": 14,
   "metadata": {
    "ExecuteTime": {
     "end_time": "2021-10-15T11:51:13.883905Z",
     "start_time": "2021-10-15T11:51:13.778595Z"
    }
   },
   "outputs": [],
   "source": [
    "Transition = namedtuple('Transition',\n",
    "                        ('state'))\n",
    "\n",
    "\n",
    "class ReplayMemory(object):\n",
    "\n",
    "    def __init__(self, capacity):\n",
    "        self.memory = deque([],maxlen=capacity)\n",
    "\n",
    "    def push(self, *args):\n",
    "        \"\"\"Save a transition\"\"\"\n",
    "        self.memory.append(Transition(*args))\n",
    "\n",
    "    def sample(self, batch_size:int=BATCH_SIZE):\n",
    "        return random.sample(self.memory, BATCH_SIZE)\n",
    "\n",
    "    def __len__(self):\n",
    "        return len(self.memory)"
   ]
  },
  {
   "cell_type": "code",
   "execution_count": 15,
   "metadata": {
    "ExecuteTime": {
     "end_time": "2021-10-15T11:51:13.981814Z",
     "start_time": "2021-10-15T11:51:13.886138Z"
    }
   },
   "outputs": [],
   "source": [
    "history = ReplayMemory(HISTORY_SIZE)\n",
    "\n",
    "for i in range(HISTORY_SIZE):\n",
    "    history.push(np.zeros((STATES_USED, )))"
   ]
  },
  {
   "cell_type": "code",
   "execution_count": 16,
   "metadata": {
    "ExecuteTime": {
     "end_time": "2021-10-15T11:51:14.085693Z",
     "start_time": "2021-10-15T11:51:13.984384Z"
    }
   },
   "outputs": [
    {
     "data": {
      "text/plain": [
       "(64, 1, 13)"
      ]
     },
     "execution_count": 16,
     "metadata": {},
     "output_type": "execute_result"
    }
   ],
   "source": [
    "a = history.sample()\n",
    "np.array(a).shape"
   ]
  },
  {
   "cell_type": "code",
   "execution_count": 17,
   "metadata": {
    "ExecuteTime": {
     "end_time": "2021-10-15T11:51:14.189839Z",
     "start_time": "2021-10-15T11:51:14.088295Z"
    }
   },
   "outputs": [],
   "source": [
    "def run(action,env:gym.envs,history:ReplayMemory):\n",
    "    s, reward, done, info = env.step([action//64, action%64])\n",
    "    # print(type(s), s.shape)\n",
    "    history.push(s.astype(np.float))\n",
    "    \n",
    "    return [np.array(history.sample(BATCH_SIZE)), reward, done, done, reward]"
   ]
  },
  {
   "cell_type": "markdown",
   "metadata": {},
   "source": [
    "# Normalization\n",
    "\n",
    "Mean and variance cal"
   ]
  },
  {
   "cell_type": "code",
   "execution_count": 18,
   "metadata": {
    "ExecuteTime": {
     "end_time": "2021-10-15T11:51:21.308201Z",
     "start_time": "2021-10-15T11:51:14.195897Z"
    }
   },
   "outputs": [
    {
     "name": "stdout",
     "output_type": "stream",
     "text": [
      "Start to initailize observation normalization parameter.....\n",
      "End to initalize...\n"
     ]
    }
   ],
   "source": [
    "# normalize obs\n",
    "print('Start to initailize observation normalization parameter.....')\n",
    "next_obs = []\n",
    "steps = 0\n",
    "while steps < pre_obs_norm_step:\n",
    "    steps += num_worker\n",
    "    actions = np.random.randint(0, output_size, size=(num_worker,))\n",
    "\n",
    "    for action in actions:\n",
    "        s, r, d, rd, lr = run(action,gym_env_train,history)\n",
    "        next_obs.append(s[:])\n",
    "        \n",
    "next_obs = np.stack(next_obs)\n",
    "obs_rms.update(next_obs)\n",
    "print('End to initalize...')"
   ]
  },
  {
   "cell_type": "code",
   "execution_count": 19,
   "metadata": {
    "ExecuteTime": {
     "end_time": "2021-10-15T11:51:21.316680Z",
     "start_time": "2021-10-15T11:51:21.311976Z"
    }
   },
   "outputs": [],
   "source": [
    "f = open('obs_rms.pkl', 'wb')\n",
    "pickle.dump(obs_rms, f)\n",
    "f.close()"
   ]
  },
  {
   "cell_type": "markdown",
   "metadata": {},
   "source": [
    "# Validation"
   ]
  },
  {
   "cell_type": "code",
   "execution_count": 20,
   "metadata": {
    "ExecuteTime": {
     "end_time": "2021-10-15T11:51:21.418049Z",
     "start_time": "2021-10-15T11:51:21.319372Z"
    },
    "code_folding": []
   },
   "outputs": [],
   "source": [
    "def val(epi_val:list):\n",
    "    \n",
    "    with torch.no_grad():\n",
    "        \n",
    "        history = ReplayMemory(HISTORY_SIZE)\n",
    "        for i in range(HISTORY_SIZE):\n",
    "            history.push(np.zeros((STATES_USED, )))\n",
    "            \n",
    "        f = open('obs_rms.pkl', 'rb')\n",
    "        obs_rms = pickle.load(f)\n",
    "        \n",
    "        rall = 0\n",
    "        rd = False\n",
    "        intrinsic_reward_list = []\n",
    "        states = np.zeros([1, BATCH_SIZE, 1,STATES_USED])\n",
    "        \n",
    "        ovr_val = 0\n",
    "        for episode in tqdm.notebook.tqdm(range(epi_val[1]-epi_val[0]+1),desc='Val'):\n",
    "            env =  BeamSelectionEnv([episode,episode])\n",
    "            rall=0\n",
    "            for steps in range(n_steps_epi_val[episode]):\n",
    "                \n",
    "                actions, value, policy = agent.get_action(\n",
    "                    (states - obs_rms.mean) / np.sqrt(obs_rms.var)\n",
    "                )\n",
    "                \n",
    "                next_states, rewards, dones, real_dones, log_rewards, next_obs = [], [], [],\\\n",
    "                    [], [], []\n",
    "                \n",
    "                for action in actions:\n",
    "                    s, r, d, rd, lr = run(action,env,history)\n",
    "                    rall += r\n",
    "                    next_states.append(s)\n",
    "                \n",
    "                next_states = np.stack(next_states)\n",
    "                states = next_states[:, :, :, :]\n",
    "                \n",
    "            print(f'Running avg for episode {epi_val[0]+episode} is {rall/steps}')\n",
    "            ovr_val +=rall\n",
    "        \n",
    "        print(f'Overall mean reward is {ovr_val/n_steps_val} ')"
   ]
  },
  {
   "cell_type": "markdown",
   "metadata": {},
   "source": [
    "# Training"
   ]
  },
  {
   "cell_type": "code",
   "execution_count": 21,
   "metadata": {
    "ExecuteTime": {
     "end_time": "2021-10-15T11:51:21.589198Z",
     "start_time": "2021-10-15T11:51:21.420319Z"
    }
   },
   "outputs": [],
   "source": [
    "# log_dir = './curiosity_log/' \n",
    "# writer = SummaryWriter(log_dir=log_dir)"
   ]
  },
  {
   "cell_type": "code",
   "execution_count": null,
   "metadata": {
    "ExecuteTime": {
     "start_time": "2021-10-15T11:50:36.188Z"
    }
   },
   "outputs": [
    {
     "data": {
      "application/vnd.jupyter.widget-view+json": {
       "model_id": "68af15e4e28e48a694fe5cf890e73666",
       "version_major": 2,
       "version_minor": 0
      },
      "text/plain": [
       "Val:   0%|          | 0/6 [00:00<?, ?it/s]"
      ]
     },
     "metadata": {},
     "output_type": "display_data"
    },
    {
     "name": "stderr",
     "output_type": "stream",
     "text": [
      "/home/mohit/anaconda3/envs/ITU/lib/python3.6/site-packages/gym/logger.py:30: UserWarning: \u001b[33mWARN: Box bound precision lowered by casting to float32\u001b[0m\n",
      "  warnings.warn(colorize('%s: %s'%('WARN', msg % args), 'yellow'))\n"
     ]
    },
    {
     "name": "stdout",
     "output_type": "stream",
     "text": [
      "Running avg for episode 500 is -0.1342210750719744\n",
      "Running avg for episode 501 is -0.17180749778097004\n",
      "Running avg for episode 502 is -0.16137250183976729\n",
      "Running avg for episode 503 is -0.16057445180409696\n",
      "Running avg for episode 504 is -0.14493263693064806\n",
      "Running avg for episode 505 is -0.16904693231923346\n",
      "Overall mean reward is -0.15566862693636863 \n"
     ]
    },
    {
     "data": {
      "application/vnd.jupyter.widget-view+json": {
       "model_id": "2bf95cbbaa3841efb094160c50574ed0",
       "version_major": 2,
       "version_minor": 0
      },
      "text/plain": [
       "Epi:   0%|          | 0/10 [00:00<?, ?it/s]"
      ]
     },
     "metadata": {},
     "output_type": "display_data"
    },
    {
     "data": {
      "application/vnd.jupyter.widget-view+json": {
       "model_id": "6f34d79c851146358af62ba4815c9027",
       "version_major": 2,
       "version_minor": 0
      },
      "text/plain": [
       "Train:   0%|          | 0/21 [00:00<?, ?it/s]"
      ]
     },
     "metadata": {},
     "output_type": "display_data"
    }
   ],
   "source": [
    "running_total_reward = 0\n",
    "\n",
    "val(epi_val)\n",
    "for episode in tqdm.notebook.tqdm(range(epi[1]-epi[0]+1),desc='Epi'):\n",
    "    running_total_reward = 0\n",
    "    for global_step in tqdm.notebook.tqdm(range(0, n_steps_epi[episode], num_step), desc = 'Train'):\n",
    "        total_state, total_reward, total_done, total_next_state, total_action, total_int_reward, total_next_obs, total_values, total_policy =         [], [], [], [], [], [], [], [], []\n",
    "        global_update += 1\n",
    "        \n",
    "        train_env =  BeamSelectionEnv([episode,episode],reward_type)\n",
    "        \n",
    "        # Step 1. n-step rollout\n",
    "        for _ in range(num_step):\n",
    "            actions, value, policy = agent.get_action((states - obs_rms.mean) / np.sqrt(obs_rms.var)) #Normalization\n",
    "\n",
    "            next_states, rewards, dones, real_dones, log_rewards, next_obs = [], [], [], [], [], []\n",
    "\n",
    "            for action in actions:\n",
    "                s, r, d, rd, lr = run(action,train_env,history)\n",
    "                next_states.append(s)\n",
    "                rewards.append(r)\n",
    "                dones.append(d)\n",
    "                real_dones.append(rd)\n",
    "                log_rewards.append(lr)\n",
    "\n",
    "            next_states = np.stack(next_states)\n",
    "            rewards = np.hstack(rewards)\n",
    "            dones = np.hstack(dones)\n",
    "            real_dones = np.hstack(real_dones)\n",
    "\n",
    "            # total reward = int reward\n",
    "            intrinsic_reward = agent.compute_intrinsic_reward(\n",
    "                (states - obs_rms.mean) / np.sqrt(obs_rms.var),\n",
    "                (next_states - obs_rms.mean) / np.sqrt(obs_rms.var),\n",
    "                actions)\n",
    "            sample_i_rall += intrinsic_reward[sample_env_idx]\n",
    "\n",
    "            total_int_reward.append(intrinsic_reward)\n",
    "            total_state.append(states)\n",
    "            total_next_state.append(next_states)\n",
    "            total_reward.append(rewards)\n",
    "            total_done.append(dones)\n",
    "            total_action.append(actions)\n",
    "            total_values.append(value)\n",
    "            total_policy.append(policy)\n",
    "\n",
    "            states = next_states[:, :, :, :]\n",
    "\n",
    "            sample_rall += log_rewards[sample_env_idx]\n",
    "\n",
    "            sample_step += 1\n",
    "            if real_dones[sample_env_idx]:\n",
    "                sample_episode += 1\n",
    "#                 writer.add_scalar('data/reward_per_epi', sample_rall, sample_episode)\n",
    "#                 writer.add_scalar('data/reward_per_rollout', sample_rall, global_update)\n",
    "#                 writer.add_scalar('data/step', sample_step, sample_episode)\n",
    "                sample_rall = 0\n",
    "                sample_step = 0\n",
    "                sample_i_rall = 0\n",
    "\n",
    "        # calculate last next value\n",
    "        _, value, _ = agent.get_action((states - obs_rms.mean) / np.sqrt(obs_rms.var))\n",
    "        total_values.append(value)\n",
    "        # --------------------------------------------------\n",
    "\n",
    "        total_state = np.stack(total_state).transpose([1, 0, 2, 3, 4]).reshape([-1,BATCH_SIZE, 1, STATES_USED])\n",
    "        total_next_state = np.stack(total_next_state).transpose([1, 0, 2, 3, 4]).reshape([-1, BATCH_SIZE, 1, STATES_USED])\n",
    "        total_action = np.stack(total_action).transpose().reshape([-1])\n",
    "        total_done = np.stack(total_done).transpose()\n",
    "        total_values = np.stack(total_values).transpose()\n",
    "        total_logging_policy = torch.stack(total_policy).view(-1, output_size).cpu().numpy()\n",
    "\n",
    "        # Step 2. calculate intrinsic reward\n",
    "        # running mean intrinsic reward\n",
    "        total_int_reward = np.stack(total_int_reward).transpose()\n",
    "        total_reward_per_env = np.array([discounted_reward.update(reward_per_step) for reward_per_step in\n",
    "                                            total_int_reward.T])\n",
    "        mean, std, count = np.mean(total_reward_per_env), np.std(total_reward_per_env), len(total_reward_per_env)\n",
    "        reward_rms.update_from_moments(mean, std ** 2, count)\n",
    "\n",
    "        # normalize intrinsic reward\n",
    "        total_int_reward /= np.sqrt(reward_rms.var)\n",
    "        # writer.add_scalar('data/int_reward_per_epi', np.sum(total_int_reward) / num_worker, sample_episode)\n",
    "        # writer.add_scalar('data/int_reward_per_rollout', np.sum(total_int_reward) / num_worker, global_update)\n",
    "        # -------------------------------------------------------------------------------------------\n",
    "\n",
    "        # logging Max action probability\n",
    "        # writer.add_scalar('data/max_prob', softmax(total_logging_policy).max(1).mean(), sample_episode)\n",
    "\n",
    "        # Step 3. make target and advantage\n",
    "        target, adv = make_train_data(total_int_reward,\n",
    "                                        np.zeros_like(total_int_reward),\n",
    "                                        total_values,\n",
    "                                        gamma,\n",
    "                                        num_step,\n",
    "                                        num_worker)\n",
    "\n",
    "        adv = (adv - np.mean(adv)) / (np.std(adv) + 1e-8)\n",
    "        # -----------------------------------------------\n",
    "\n",
    "        # Step 5. Training!\n",
    "        agent.train_model((total_state - obs_rms.mean) / np.sqrt(obs_rms.var),\n",
    "                            (total_next_state - obs_rms.mean) / np.sqrt(obs_rms.var),\n",
    "                            target, total_action,\n",
    "                            adv,\n",
    "                            total_policy)\n",
    "\n",
    "        running_total_reward += np.sum(total_reward)\n",
    "\n",
    "\n",
    "#         if (global_step) % (num_worker * num_step) == 0:\n",
    "# #             print('Now Global Step :{}'.format((global_step)))\n",
    "    print(f'Running: {running_total_reward/(global_step+num_step)}')\n",
    "    \n",
    "    torch.save(agent.model.state_dict(), model_path)\n",
    "    torch.save(agent.icm.state_dict(), icm_path)\n",
    "\n",
    "val(epi_val)\n",
    "\n"
   ]
  },
  {
   "cell_type": "code",
   "execution_count": null,
   "metadata": {},
   "outputs": [],
   "source": []
  }
 ],
 "metadata": {
  "interpreter": {
   "hash": "4670286833580a43405122a6364ee48a0ddcd3c7511a5959f829e36e5f943148"
  },
  "kernelspec": {
   "display_name": "Python 3",
   "language": "python",
   "name": "python3"
  },
  "language_info": {
   "codemirror_mode": {
    "name": "ipython",
    "version": 3
   },
   "file_extension": ".py",
   "mimetype": "text/x-python",
   "name": "python",
   "nbconvert_exporter": "python",
   "pygments_lexer": "ipython3",
   "version": "3.6.13"
  },
  "notify_time": "5",
  "toc": {
   "base_numbering": 1,
   "nav_menu": {},
   "number_sections": true,
   "sideBar": false,
   "skip_h1_title": false,
   "title_cell": "Table of Contents",
   "title_sidebar": "Contents",
   "toc_cell": false,
   "toc_position": {},
   "toc_section_display": true,
   "toc_window_display": false
  },
  "varInspector": {
   "cols": {
    "lenName": 16,
    "lenType": 16,
    "lenVar": 40
   },
   "kernels_config": {
    "python": {
     "delete_cmd_postfix": "",
     "delete_cmd_prefix": "del ",
     "library": "var_list.py",
     "varRefreshCmd": "print(var_dic_list())"
    },
    "r": {
     "delete_cmd_postfix": ") ",
     "delete_cmd_prefix": "rm(",
     "library": "var_list.r",
     "varRefreshCmd": "cat(var_dic_list()) "
    }
   },
   "types_to_exclude": [
    "module",
    "function",
    "builtin_function_or_method",
    "instance",
    "_Feature"
   ],
   "window_display": false
  }
 },
 "nbformat": 4,
 "nbformat_minor": 2
}
