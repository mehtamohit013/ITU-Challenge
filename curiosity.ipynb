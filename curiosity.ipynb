{
 "cells": [
  {
   "cell_type": "code",
   "execution_count": 1,
   "metadata": {
    "ExecuteTime": {
     "end_time": "2021-10-15T06:43:14.772246Z",
     "start_time": "2021-10-15T06:43:12.785053Z"
    }
   },
   "outputs": [],
   "source": [
    "import torch\n",
    "import torch.nn as nn\n",
    "import torch.optim as optim\n",
    "import torch.nn.functional as F\n",
    "from torch.utils.tensorboard import SummaryWriter\n",
    "\n",
    "import tqdm\n",
    "import pickle\n",
    "import math\n",
    "import random\n",
    "import numpy as np\n",
    "import matplotlib\n",
    "import matplotlib.pyplot as plt\n",
    "from collections import namedtuple, deque\n",
    "from itertools import count\n",
    "import copy\n",
    "# import multiprocessing as mp\n",
    "from torch.multiprocessing import Pipe\n",
    "\n",
    "import gym\n",
    "\n",
    "# set up matplotlib\n",
    "is_ipython = 'inline' in matplotlib.get_backend()\n",
    "if is_ipython:\n",
    "    from IPython import display\n",
    "\n",
    "plt.ion()"
   ]
  },
  {
   "cell_type": "code",
   "execution_count": 2,
   "metadata": {
    "ExecuteTime": {
     "end_time": "2021-10-15T06:43:14.779575Z",
     "start_time": "2021-10-15T06:43:14.775431Z"
    }
   },
   "outputs": [],
   "source": [
    "device = torch.device(\"cpu\")"
   ]
  },
  {
   "cell_type": "code",
   "execution_count": 3,
   "metadata": {
    "ExecuteTime": {
     "end_time": "2021-10-15T06:43:15.319268Z",
     "start_time": "2021-10-15T06:43:14.783396Z"
    }
   },
   "outputs": [],
   "source": [
    "import caviar_tools\n",
    "from beamselect_env import BeamSelectionEnv"
   ]
  },
  {
   "cell_type": "markdown",
   "metadata": {
    "heading_collapsed": true
   },
   "source": [
    "# Gym Env"
   ]
  },
  {
   "cell_type": "code",
   "execution_count": 4,
   "metadata": {
    "ExecuteTime": {
     "end_time": "2021-10-15T06:44:09.942951Z",
     "start_time": "2021-10-15T06:43:15.321618Z"
    },
    "hidden": true
   },
   "outputs": [
    {
     "name": "stderr",
     "output_type": "stream",
     "text": [
      "/home/mohit/anaconda3/envs/ITU/lib/python3.6/site-packages/gym/logger.py:30: UserWarning: \u001b[33mWARN: Box bound precision lowered by casting to float32\u001b[0m\n",
      "  warnings.warn(colorize('%s: %s'%('WARN', msg % args), 'yellow'))\n"
     ]
    }
   ],
   "source": [
    "reward_type = 'test'    # 'test' or 'train'\n",
    "epi = [0,0] #[start,end] \n",
    "epi_val = [500,500]\n",
    "\n",
    "gym_env_train = BeamSelectionEnv(epi,reward_type)\n",
    "\n",
    "gym_env_ind = list()\n",
    "for i in range(epi[0],epi[1]+1):\n",
    "    gym_env_ind.append(BeamSelectionEnv([i,i],reward_type))\n",
    "    \n",
    "gym_env_ind_val = list()\n",
    "for i in range(epi_val[0],epi_val[1]+1):\n",
    "    gym_env_ind_val.append(BeamSelectionEnv([i,i]))\n",
    "\n",
    "# gym_env_val = BeamSelectionEnv(epi_val)"
   ]
  },
  {
   "cell_type": "code",
   "execution_count": 5,
   "metadata": {
    "ExecuteTime": {
     "end_time": "2021-10-15T06:44:10.921556Z",
     "start_time": "2021-10-15T06:44:09.946006Z"
    },
    "hidden": true
   },
   "outputs": [],
   "source": [
    "n_steps_epi = list()\n",
    "n_steps_epi_val = list()\n",
    "for i in range(epi[0],epi[1]+1):\n",
    "    n_steps_epi.append(caviar_tools.linecount([i,i]))\n",
    "\n",
    "for i in range(epi_val[0],epi_val[1]+1):\n",
    "    n_steps_epi_val.append(caviar_tools.linecount([i,i]))\n",
    "\n",
    "n_steps = sum(n_steps_epi)\n",
    "n_steps_val = sum(n_steps_epi_val)"
   ]
  },
  {
   "cell_type": "code",
   "execution_count": 6,
   "metadata": {
    "ExecuteTime": {
     "end_time": "2021-10-15T06:44:10.929391Z",
     "start_time": "2021-10-15T06:44:10.924428Z"
    },
    "hidden": true
   },
   "outputs": [],
   "source": [
    "train_method = 'ICM'\n",
    "env_id = None #BreakoutNoFrameskip-v4\n",
    "env_type = 'beamselect'"
   ]
  },
  {
   "cell_type": "markdown",
   "metadata": {
    "heading_collapsed": true
   },
   "source": [
    "# Hyper Params"
   ]
  },
  {
   "cell_type": "code",
   "execution_count": 7,
   "metadata": {
    "ExecuteTime": {
     "end_time": "2021-10-15T06:44:11.039842Z",
     "start_time": "2021-10-15T06:44:10.935243Z"
    },
    "hidden": true
   },
   "outputs": [],
   "source": [
    "lam = 0.95\n",
    "num_worker = 1\n",
    "\n",
    "num_step = int(128)\n",
    "\n",
    "ppo_eps = float(0.1)\n",
    "epoch = int(3)\n",
    "mini_batch = int(8)\n",
    "BATCH_SIZE = int(num_step * num_worker / mini_batch) #16\n",
    "learning_rate = float(1e-4)\n",
    "entropy_coef = float(0.001)\n",
    "gamma = float(0.99)\n",
    "eta = float(1)\n",
    "\n",
    "clip_grad_norm = float(0.5)\n",
    "\n",
    "pre_obs_norm_step = int(10)#int(10000)\n",
    "\n",
    "HISTORY_SIZE = 16\n",
    "STATES_USED = 13"
   ]
  },
  {
   "cell_type": "markdown",
   "metadata": {
    "heading_collapsed": true
   },
   "source": [
    "# States and Agent"
   ]
  },
  {
   "cell_type": "code",
   "execution_count": 8,
   "metadata": {
    "ExecuteTime": {
     "end_time": "2021-10-15T06:44:11.145471Z",
     "start_time": "2021-10-15T06:44:11.044495Z"
    },
    "hidden": true
   },
   "outputs": [],
   "source": [
    "model_path = './model_curiosity'\n",
    "icm_path = './icm_curiosity'"
   ]
  },
  {
   "cell_type": "code",
   "execution_count": 9,
   "metadata": {
    "ExecuteTime": {
     "end_time": "2021-10-15T06:44:11.244121Z",
     "start_time": "2021-10-15T06:44:11.147556Z"
    },
    "hidden": true
   },
   "outputs": [],
   "source": [
    "input_size = [HISTORY_SIZE,STATES_USED]  \n",
    "output_size = 192 #64*3"
   ]
  },
  {
   "cell_type": "code",
   "execution_count": 10,
   "metadata": {
    "ExecuteTime": {
     "end_time": "2021-10-15T06:44:11.343755Z",
     "start_time": "2021-10-15T06:44:11.246626Z"
    },
    "hidden": true
   },
   "outputs": [],
   "source": [
    "from utils_cur import *\n",
    "from agents_cur import *"
   ]
  },
  {
   "cell_type": "code",
   "execution_count": 11,
   "metadata": {
    "ExecuteTime": {
     "end_time": "2021-10-15T06:44:11.441233Z",
     "start_time": "2021-10-15T06:44:11.346011Z"
    },
    "hidden": true
   },
   "outputs": [],
   "source": [
    "reward_rms = RunningMeanStd()\n",
    "obs_rms = RunningMeanStd(shape=(1, HISTORY_SIZE, 1, STATES_USED))\n",
    "\n",
    "\n",
    "discounted_reward = RewardForwardFilter(gamma)\n",
    "\n",
    "agent = ICMAgent"
   ]
  },
  {
   "cell_type": "code",
   "execution_count": 12,
   "metadata": {
    "ExecuteTime": {
     "end_time": "2021-10-15T06:44:11.561162Z",
     "start_time": "2021-10-15T06:44:11.443795Z"
    },
    "hidden": true
   },
   "outputs": [],
   "source": [
    "agent = agent(\n",
    "        input_size,\n",
    "        output_size,\n",
    "        num_worker,\n",
    "        num_step,\n",
    "        gamma,\n",
    "        lam=lam,\n",
    "        learning_rate=learning_rate,\n",
    "        ent_coef=entropy_coef,\n",
    "        clip_grad_norm=clip_grad_norm,\n",
    "        epoch=epoch,\n",
    "        batch_size=BATCH_SIZE,\n",
    "        ppo_eps=ppo_eps,\n",
    "        eta=eta,\n",
    "        use_cuda=False,\n",
    "        use_gae=False,\n",
    "        use_noisy_net=False\n",
    "    )"
   ]
  },
  {
   "cell_type": "code",
   "execution_count": 13,
   "metadata": {
    "ExecuteTime": {
     "end_time": "2021-10-15T06:44:11.638364Z",
     "start_time": "2021-10-15T06:44:11.563832Z"
    },
    "hidden": true
   },
   "outputs": [],
   "source": [
    "states = np.zeros([1, HISTORY_SIZE, 1,STATES_USED])\n",
    "\n",
    "sample_episode = 0\n",
    "sample_rall = 0\n",
    "sample_step = 0\n",
    "sample_env_idx = 0\n",
    "sample_i_rall = 0\n",
    "global_update = 0\n"
   ]
  },
  {
   "cell_type": "code",
   "execution_count": 14,
   "metadata": {
    "ExecuteTime": {
     "end_time": "2021-10-15T06:44:11.762490Z",
     "start_time": "2021-10-15T06:44:11.640927Z"
    },
    "hidden": true
   },
   "outputs": [],
   "source": [
    "Transition = namedtuple('Transition',\n",
    "                        ('state'))\n",
    "\n",
    "\n",
    "class ReplayMemory(object):\n",
    "\n",
    "    def __init__(self, capacity):\n",
    "        self.memory = deque([],maxlen=capacity)\n",
    "\n",
    "    def push(self, *args):\n",
    "        \"\"\"Save a transition\"\"\"\n",
    "        self.memory.append(Transition(*args))\n",
    "\n",
    "    def sample(self, batch_size:int=BATCH_SIZE):\n",
    "        return random.sample(self.memory, BATCH_SIZE)\n",
    "\n",
    "    def __len__(self):\n",
    "        return len(self.memory)"
   ]
  },
  {
   "cell_type": "code",
   "execution_count": 15,
   "metadata": {
    "ExecuteTime": {
     "end_time": "2021-10-15T06:44:11.871225Z",
     "start_time": "2021-10-15T06:44:11.765446Z"
    },
    "hidden": true
   },
   "outputs": [],
   "source": [
    "history = ReplayMemory(HISTORY_SIZE)\n",
    "\n",
    "for i in range(HISTORY_SIZE):\n",
    "    history.push(np.zeros((STATES_USED, )))"
   ]
  },
  {
   "cell_type": "code",
   "execution_count": 16,
   "metadata": {
    "ExecuteTime": {
     "end_time": "2021-10-15T06:44:11.974673Z",
     "start_time": "2021-10-15T06:44:11.873711Z"
    },
    "hidden": true
   },
   "outputs": [
    {
     "data": {
      "text/plain": [
       "(16, 1, 13)"
      ]
     },
     "execution_count": 16,
     "metadata": {},
     "output_type": "execute_result"
    }
   ],
   "source": [
    "a = history.sample()\n",
    "np.array(a).shape"
   ]
  },
  {
   "cell_type": "code",
   "execution_count": 17,
   "metadata": {
    "ExecuteTime": {
     "end_time": "2021-10-15T06:44:12.079534Z",
     "start_time": "2021-10-15T06:44:11.977378Z"
    },
    "hidden": true
   },
   "outputs": [],
   "source": [
    "def run(action,env:gym.envs):\n",
    "    s, reward, done, info = env.step([action//64, action%64])\n",
    "    # print(type(s), s.shape)\n",
    "    history.push(s.astype(np.float))\n",
    "    \n",
    "    return [np.array(history.sample(BATCH_SIZE)), reward, done, done, reward]"
   ]
  },
  {
   "cell_type": "markdown",
   "metadata": {
    "heading_collapsed": true
   },
   "source": [
    "# Normalization\n",
    "\n",
    "Mean and variance cal"
   ]
  },
  {
   "cell_type": "code",
   "execution_count": 18,
   "metadata": {
    "ExecuteTime": {
     "end_time": "2021-10-15T06:44:12.224103Z",
     "start_time": "2021-10-15T06:44:12.081858Z"
    },
    "hidden": true
   },
   "outputs": [
    {
     "name": "stdout",
     "output_type": "stream",
     "text": [
      "Start to initailize observation normalization parameter.....\n",
      "End to initalize...\n"
     ]
    }
   ],
   "source": [
    "# normalize obs\n",
    "print('Start to initailize observation normalization parameter.....')\n",
    "next_obs = []\n",
    "steps = 0\n",
    "while steps < pre_obs_norm_step:\n",
    "    steps += num_worker\n",
    "    actions = np.random.randint(0, output_size, size=(num_worker,))\n",
    "\n",
    "    for action in actions:\n",
    "        s, r, d, rd, lr = run(action,gym_env_train)\n",
    "        next_obs.append(s[:])\n",
    "        \n",
    "next_obs = np.stack(next_obs)\n",
    "obs_rms.update(next_obs)\n",
    "print('End to initalize...')"
   ]
  },
  {
   "cell_type": "code",
   "execution_count": 19,
   "metadata": {
    "ExecuteTime": {
     "end_time": "2021-10-15T06:44:12.299679Z",
     "start_time": "2021-10-15T06:44:12.227201Z"
    },
    "hidden": true
   },
   "outputs": [],
   "source": [
    "f = open('obs_rms.pkl', 'wb')\n",
    "pickle.dump(obs_rms, f)\n",
    "f.close()"
   ]
  },
  {
   "cell_type": "markdown",
   "metadata": {
    "heading_collapsed": true
   },
   "source": [
    "# Validation"
   ]
  },
  {
   "cell_type": "code",
   "execution_count": 20,
   "metadata": {
    "ExecuteTime": {
     "end_time": "2021-10-15T06:44:12.447558Z",
     "start_time": "2021-10-15T06:44:12.303555Z"
    },
    "hidden": true
   },
   "outputs": [],
   "source": [
    "def val(gym_val:list):\n",
    "    with torch.no_grad():\n",
    "        \n",
    "        history = ReplayMemory(HISTORY_SIZE)\n",
    "        for i in range(HISTORY_SIZE):\n",
    "            history.push(np.zeros((STATES_USED, )))\n",
    "            \n",
    "        f = open('obs_rms.pkl', 'rb')\n",
    "        obs_rms = pickle.load(f)\n",
    "        \n",
    "        rall = 0\n",
    "        rd = False\n",
    "        intrinsic_reward_list = []\n",
    "        states = np.zeros([1, HISTORY_SIZE, 1,STATES_USED])\n",
    "        \n",
    "        ovr_val = 0\n",
    "        for episode in tqdm.notebook.tqdm(range(len(gym_val)),desc='Val'):\n",
    "            env = copy.deepcopy(gym_val[episode])\n",
    "            rall=0\n",
    "            for steps in range(n_steps_epi_val[episode]):\n",
    "                \n",
    "                actions, value, policy = agent.get_action(\n",
    "                    (states - obs_rms.mean) / np.sqrt(obs_rms.var)\n",
    "                )\n",
    "                \n",
    "                next_states, rewards, dones, real_dones, log_rewards, next_obs = [], [], [],\\\n",
    "                    [], [], []\n",
    "                \n",
    "                for action in actions:\n",
    "                    s, r, d, rd, lr = run(action,env)\n",
    "                    rall += r\n",
    "                    next_states.append(s)\n",
    "                \n",
    "                next_states = np.stack(next_states)\n",
    "                states = next_states[:, :, :, :]\n",
    "                \n",
    "            print(f'Running avg for episode {epi_val[0]+episode} is {rall/steps}')\n",
    "            ovr_val +=rall\n",
    "        \n",
    "        print(f'Overall mean reward is {ovr_val/n_steps_val} ')"
   ]
  },
  {
   "cell_type": "markdown",
   "metadata": {},
   "source": [
    "# Training"
   ]
  },
  {
   "cell_type": "code",
   "execution_count": 21,
   "metadata": {
    "ExecuteTime": {
     "end_time": "2021-10-15T06:46:00.976445Z",
     "start_time": "2021-10-15T06:44:12.449999Z"
    }
   },
   "outputs": [
    {
     "data": {
      "application/vnd.jupyter.widget-view+json": {
       "model_id": "ea9906001dde4370b4b63c3b93bdbdd3",
       "version_major": 2,
       "version_minor": 0
      },
      "text/plain": [
       "Val:   0%|          | 0/1 [00:00<?, ?it/s]"
      ]
     },
     "metadata": {},
     "output_type": "display_data"
    },
    {
     "name": "stdout",
     "output_type": "stream",
     "text": [
      "Running avg for episode 500 is -0.14108280115763938\n",
      "Overall mean reward is -0.14106354333602356 \n"
     ]
    },
    {
     "data": {
      "application/vnd.jupyter.widget-view+json": {
       "model_id": "55096a8cc828472caed8e9c75c2bafcd",
       "version_major": 2,
       "version_minor": 0
      },
      "text/plain": [
       "Epi:   0%|          | 0/1 [00:00<?, ?it/s]"
      ]
     },
     "metadata": {},
     "output_type": "display_data"
    },
    {
     "data": {
      "application/vnd.jupyter.widget-view+json": {
       "model_id": "8acd3c75ae384829b41545dd20eaebd0",
       "version_major": 2,
       "version_minor": 0
      },
      "text/plain": [
       "Train:   0%|          | 0/42 [00:00<?, ?it/s]"
      ]
     },
     "metadata": {},
     "output_type": "display_data"
    },
    {
     "name": "stdout",
     "output_type": "stream",
     "text": [
      "Total reward : -0.16102066389558523, Running: -0.16102066389558523\n",
      "Total reward : -0.17519103140719816, Running: -0.1681058476513917\n",
      "Total reward : -0.17280647734514046, Running: -0.1696727242159746\n",
      "Total reward : -0.17577551107255013, Running: -0.1711984209301185\n",
      "Total reward : -0.17329199158035835, Running: -0.17161713506016646\n",
      "Total reward : -0.17281762775182585, Running: -0.17181721717544304\n",
      "Total reward : -0.1763255676984957, Running: -0.17246126725016483\n",
      "Total reward : -0.18026046113152916, Running: -0.17343616648533539\n",
      "Total reward : -0.1722753137788824, Running: -0.17330718285128505\n",
      "Total reward : -0.1702746585780325, Running: -0.1730039304239598\n",
      "Total reward : -0.16462203979931384, Running: -0.1722419403671738\n",
      "Total reward : -0.16856373237729527, Running: -0.17193542303468393\n",
      "Total reward : -0.17003963456667526, Running: -0.17178959315252942\n",
      "Total reward : -0.17511642904583596, Running: -0.1720272242877656\n",
      "Total reward : -0.17040868070857712, Running: -0.17191932138248636\n",
      "Total reward : -0.16714927573810878, Running: -0.17162119352971278\n",
      "Total reward : -0.17478308195669245, Running: -0.17180718696659394\n",
      "Total reward : -0.17469610992214363, Running: -0.1719676826863467\n",
      "Total reward : -0.1771317410084955, Running: -0.17223947522961772\n",
      "Total reward : -0.17646199056461045, Running: -0.17245060099636736\n",
      "Total reward : -0.17514379214575693, Running: -0.17257884819395733\n",
      "Total reward : -0.17472787078623458, Running: -0.17267653103906083\n",
      "Total reward : -0.1733678919389851, Running: -0.17270659020862275\n",
      "Total reward : -0.16920593978498596, Running: -0.17256072977430456\n",
      "Total reward : -0.1553383540533805, Running: -0.1718718347454676\n",
      "Total reward : -0.15265230370238952, Running: -0.17113262201304152\n",
      "Total reward : -0.13146603643845295, Running: -0.16966348921398267\n",
      "Total reward : -0.10396256591397374, Running: -0.16731702766755377\n",
      "Total reward : -0.11721277371422009, Running: -0.16558929477261122\n",
      "Total reward : -0.12173878813437579, Running: -0.1641276112180034\n",
      "Total reward : -0.1263802146049502, Running: -0.1629099532627436\n",
      "Total reward : -0.06275925040714969, Running: -0.1597802437985063\n",
      "Total reward : -0.11173409686889382, Running: -0.1583242999521544\n",
      "Total reward : -0.09749694747883483, Running: -0.15653526017352734\n",
      "Total reward : -0.10218577708160137, Running: -0.1549824177994723\n",
      "Total reward : -0.09377100953580056, Running: -0.15328210090325922\n",
      "Total reward : -0.08525365440734353, Running: -0.15144349424120743\n",
      "Total reward : -0.06785489259775772, Running: -0.14924379419795877\n",
      "Total reward : -0.0957956550187295, Running: -0.14787332909079906\n",
      "Total reward : -0.04312786510217806, Running: -0.14525469249108353\n",
      "Total reward : -0.01952167014207187, Running: -0.1421880334094003\n",
      "Total reward : -0.0594257494199884, Running: -0.14021750283822385\n"
     ]
    },
    {
     "data": {
      "application/vnd.jupyter.widget-view+json": {
       "model_id": "699252d398c74004b739882dfb116800",
       "version_major": 2,
       "version_minor": 0
      },
      "text/plain": [
       "Val:   0%|          | 0/1 [00:00<?, ?it/s]"
      ]
     },
     "metadata": {},
     "output_type": "display_data"
    },
    {
     "name": "stdout",
     "output_type": "stream",
     "text": [
      "Running avg for episode 500 is -0.14219621607996893\n",
      "Overall mean reward is -0.14217680627706422 \n"
     ]
    }
   ],
   "source": [
    "running_total_reward = 0\n",
    "\n",
    "val(gym_env_ind_val)\n",
    "for episode in tqdm.notebook.tqdm(range(len(gym_env_ind)),desc='Epi'):\n",
    "    for global_step in tqdm.notebook.tqdm(range(0, n_steps_epi[episode], num_step), desc = 'Train'):\n",
    "        total_state, total_reward, total_done, total_next_state, total_action, total_int_reward, total_next_obs, total_values, total_policy =         [], [], [], [], [], [], [], [], []\n",
    "        global_update += 1\n",
    "\n",
    "        # Step 1. n-step rollout\n",
    "        for _ in range(num_step):\n",
    "            actions, value, policy = agent.get_action((states - obs_rms.mean) / np.sqrt(obs_rms.var)) #Normalization\n",
    "\n",
    "            next_states, rewards, dones, real_dones, log_rewards, next_obs = [], [], [], [], [], []\n",
    "\n",
    "            for action in actions:\n",
    "                s, r, d, rd, lr = run(action,gym_env_ind[episode])\n",
    "                next_states.append(s)\n",
    "                rewards.append(r)\n",
    "                dones.append(d)\n",
    "                real_dones.append(rd)\n",
    "                log_rewards.append(lr)\n",
    "\n",
    "            next_states = np.stack(next_states)\n",
    "            rewards = np.hstack(rewards)\n",
    "            dones = np.hstack(dones)\n",
    "            real_dones = np.hstack(real_dones)\n",
    "\n",
    "            # total reward = int reward\n",
    "            intrinsic_reward = agent.compute_intrinsic_reward(\n",
    "                (states - obs_rms.mean) / np.sqrt(obs_rms.var),\n",
    "                (next_states - obs_rms.mean) / np.sqrt(obs_rms.var),\n",
    "                actions)\n",
    "            sample_i_rall += intrinsic_reward[sample_env_idx]\n",
    "\n",
    "            total_int_reward.append(intrinsic_reward)\n",
    "            total_state.append(states)\n",
    "            total_next_state.append(next_states)\n",
    "            total_reward.append(rewards)\n",
    "            total_done.append(dones)\n",
    "            total_action.append(actions)\n",
    "            total_values.append(value)\n",
    "            total_policy.append(policy)\n",
    "\n",
    "            states = next_states[:, :, :, :]\n",
    "\n",
    "            sample_rall += log_rewards[sample_env_idx]\n",
    "\n",
    "            sample_step += 1\n",
    "            if real_dones[sample_env_idx]:\n",
    "                sample_episode += 1\n",
    "                # writer.add_scalar('data/reward_per_epi', sample_rall, sample_episode)\n",
    "                # writer.add_scalar('data/reward_per_rollout', sample_rall, global_update)\n",
    "                # writer.add_scalar('data/step', sample_step, sample_episode)\n",
    "                sample_rall = 0\n",
    "                sample_step = 0\n",
    "                sample_i_rall = 0\n",
    "\n",
    "        # calculate last next value\n",
    "        _, value, _ = agent.get_action((states - obs_rms.mean) / np.sqrt(obs_rms.var))\n",
    "        total_values.append(value)\n",
    "        # --------------------------------------------------\n",
    "\n",
    "        total_state = np.stack(total_state).transpose([1, 0, 2, 3, 4]).reshape([-1, HISTORY_SIZE, 1, STATES_USED])\n",
    "        total_next_state = np.stack(total_next_state).transpose([1, 0, 2, 3, 4]).reshape([-1, HISTORY_SIZE, 1, STATES_USED])\n",
    "        total_action = np.stack(total_action).transpose().reshape([-1])\n",
    "        total_done = np.stack(total_done).transpose()\n",
    "        total_values = np.stack(total_values).transpose()\n",
    "        total_logging_policy = torch.stack(total_policy).view(-1, output_size).cpu().numpy()\n",
    "\n",
    "        # Step 2. calculate intrinsic reward\n",
    "        # running mean intrinsic reward\n",
    "        total_int_reward = np.stack(total_int_reward).transpose()\n",
    "        total_reward_per_env = np.array([discounted_reward.update(reward_per_step) for reward_per_step in\n",
    "                                            total_int_reward.T])\n",
    "        mean, std, count = np.mean(total_reward_per_env), np.std(total_reward_per_env), len(total_reward_per_env)\n",
    "        reward_rms.update_from_moments(mean, std ** 2, count)\n",
    "\n",
    "        # normalize intrinsic reward\n",
    "        total_int_reward /= np.sqrt(reward_rms.var)\n",
    "        # writer.add_scalar('data/int_reward_per_epi', np.sum(total_int_reward) / num_worker, sample_episode)\n",
    "        # writer.add_scalar('data/int_reward_per_rollout', np.sum(total_int_reward) / num_worker, global_update)\n",
    "        # -------------------------------------------------------------------------------------------\n",
    "\n",
    "        # logging Max action probability\n",
    "        # writer.add_scalar('data/max_prob', softmax(total_logging_policy).max(1).mean(), sample_episode)\n",
    "\n",
    "        # Step 3. make target and advantage\n",
    "        target, adv = make_train_data(total_int_reward,\n",
    "                                        np.zeros_like(total_int_reward),\n",
    "                                        total_values,\n",
    "                                        gamma,\n",
    "                                        num_step,\n",
    "                                        num_worker)\n",
    "\n",
    "        adv = (adv - np.mean(adv)) / (np.std(adv) + 1e-8)\n",
    "        # -----------------------------------------------\n",
    "\n",
    "        # Step 5. Training!\n",
    "        agent.train_model((total_state - obs_rms.mean) / np.sqrt(obs_rms.var),\n",
    "                            (total_next_state - obs_rms.mean) / np.sqrt(obs_rms.var),\n",
    "                            target, total_action,\n",
    "                            adv,\n",
    "                            total_policy)\n",
    "\n",
    "        running_total_reward += np.sum(total_reward)\n",
    "\n",
    "\n",
    "        if (global_step) % (num_worker * num_step) == 0:\n",
    "#             print('Now Global Step :{}'.format((global_step)))\n",
    "            print(f'Total reward : {np.mean(total_reward)}, Running: {running_total_reward/(global_step+num_step)}')\n",
    "    #         torch.save(agent.model.state_dict(), model_path)\n",
    "    #         torch.save(agent.icm.state_dict(), icm_path)\n",
    "\n",
    "    val(gym_env_ind_val)\n",
    "\n"
   ]
  }
 ],
 "metadata": {
  "interpreter": {
   "hash": "4670286833580a43405122a6364ee48a0ddcd3c7511a5959f829e36e5f943148"
  },
  "kernelspec": {
   "display_name": "Python 3",
   "language": "python",
   "name": "python3"
  },
  "language_info": {
   "codemirror_mode": {
    "name": "ipython",
    "version": 3
   },
   "file_extension": ".py",
   "mimetype": "text/x-python",
   "name": "python",
   "nbconvert_exporter": "python",
   "pygments_lexer": "ipython3",
   "version": "3.6.13"
  },
  "toc": {
   "base_numbering": 1,
   "nav_menu": {},
   "number_sections": true,
   "sideBar": false,
   "skip_h1_title": false,
   "title_cell": "Table of Contents",
   "title_sidebar": "Contents",
   "toc_cell": false,
   "toc_position": {},
   "toc_section_display": true,
   "toc_window_display": false
  },
  "varInspector": {
   "cols": {
    "lenName": 16,
    "lenType": 16,
    "lenVar": 40
   },
   "kernels_config": {
    "python": {
     "delete_cmd_postfix": "",
     "delete_cmd_prefix": "del ",
     "library": "var_list.py",
     "varRefreshCmd": "print(var_dic_list())"
    },
    "r": {
     "delete_cmd_postfix": ") ",
     "delete_cmd_prefix": "rm(",
     "library": "var_list.r",
     "varRefreshCmd": "cat(var_dic_list()) "
    }
   },
   "types_to_exclude": [
    "module",
    "function",
    "builtin_function_or_method",
    "instance",
    "_Feature"
   ],
   "window_display": false
  }
 },
 "nbformat": 4,
 "nbformat_minor": 2
}
