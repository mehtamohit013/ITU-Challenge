{
 "cells": [
  {
   "cell_type": "code",
   "execution_count": 1,
   "id": "5fbcf47e",
   "metadata": {
    "ExecuteTime": {
     "end_time": "2021-10-15T18:39:16.063495Z",
     "start_time": "2021-10-15T18:39:13.873135Z"
    }
   },
   "outputs": [],
   "source": [
    "import torch\n",
    "import torch.nn as nn\n",
    "import torch.optim as optim\n",
    "import torch.nn.functional as F\n",
    "from torch.utils.tensorboard import SummaryWriter\n",
    "\n",
    "import tqdm\n",
    "\n",
    "import math\n",
    "import random\n",
    "import numpy as np\n",
    "import matplotlib\n",
    "import matplotlib.pyplot as plt\n",
    "from collections import namedtuple, deque\n",
    "from itertools import count\n",
    "import copy\n",
    "from torch.multiprocessing import Pipe\n",
    "import pandas as pd\n",
    "\n",
    "import gym\n",
    "import caviar_tools\n",
    "from beamselect_env import BeamSelectionEnv\n",
    "\n",
    "# set up matplotlib\n",
    "is_ipython = 'inline' in matplotlib.get_backend()\n",
    "if is_ipython:\n",
    "    from IPython import display\n",
    "\n",
    "plt.ion()\n",
    "device = torch.device(\"cpu\")"
   ]
  },
  {
   "cell_type": "code",
   "execution_count": 2,
   "id": "407cc28f",
   "metadata": {
    "ExecuteTime": {
     "end_time": "2021-10-15T18:42:15.365579Z",
     "start_time": "2021-10-15T18:39:16.067352Z"
    }
   },
   "outputs": [
    {
     "name": "stderr",
     "output_type": "stream",
     "text": [
      "/home/mohit/anaconda3/envs/ITU/lib/python3.6/site-packages/gym/logger.py:30: UserWarning: \u001b[33mWARN: Box bound precision lowered by casting to float32\u001b[0m\n",
      "  warnings.warn(colorize('%s: %s'%('WARN', msg % args), 'yellow'))\n"
     ]
    }
   ],
   "source": [
    "epi_val = [500,509]\n",
    "gym_env_ind_val = list()\n",
    "for i in range(epi_val[0],epi_val[1]+1):\n",
    "    gym_env_ind_val.append(BeamSelectionEnv([i,i]))\n",
    "\n",
    "n_steps_epi_val = list()\n",
    "for i in range(epi_val[0],epi_val[1]+1):\n",
    "    n_steps_epi_val.append(caviar_tools.linecount([i,i]))\n",
    "\n",
    "# n_steps = sum(n_steps_epi)\n",
    "n_steps_val = sum(n_steps_epi_val)"
   ]
  },
  {
   "cell_type": "code",
   "execution_count": 3,
   "id": "03d986b0",
   "metadata": {
    "ExecuteTime": {
     "end_time": "2021-10-15T18:42:15.377025Z",
     "start_time": "2021-10-15T18:42:15.368820Z"
    }
   },
   "outputs": [],
   "source": [
    "from agents_cur import *\n",
    "from utils_cur import *\n",
    "\n",
    "import numpy as np\n",
    "import pickle"
   ]
  },
  {
   "cell_type": "code",
   "execution_count": 4,
   "id": "51c316d9",
   "metadata": {
    "ExecuteTime": {
     "end_time": "2021-10-15T18:42:15.692796Z",
     "start_time": "2021-10-15T18:42:15.379933Z"
    }
   },
   "outputs": [],
   "source": [
    "train_method = 'ICM'\n",
    "env_id = None #BreakoutNoFrameskip-v4\n",
    "env_type = 'beamselect'"
   ]
  },
  {
   "cell_type": "code",
   "execution_count": 5,
   "id": "830a3afc",
   "metadata": {
    "ExecuteTime": {
     "end_time": "2021-10-15T18:42:15.868128Z",
     "start_time": "2021-10-15T18:42:15.697276Z"
    }
   },
   "outputs": [],
   "source": [
    "model_path = './model_state_dict/model_curiosity'\n",
    "icm_path = './model_state_dict/icm_curiosity'"
   ]
  },
  {
   "cell_type": "code",
   "execution_count": 6,
   "id": "0c8157d1",
   "metadata": {
    "ExecuteTime": {
     "end_time": "2021-10-15T18:42:16.100229Z",
     "start_time": "2021-10-15T18:42:15.871575Z"
    }
   },
   "outputs": [],
   "source": [
    "lam = 0.95\n",
    "num_worker = 1\n",
    "\n",
    "num_step = int(512)\n",
    "\n",
    "ppo_eps = float(0.1)\n",
    "epoch = int(3)\n",
    "mini_batch = int(8)\n",
    "BATCH_SIZE = int(num_step * num_worker / mini_batch) #16\n",
    "learning_rate = float(1e-4)\n",
    "entropy_coef = float(0.001)\n",
    "gamma = float(0.8)\n",
    "eta = float(1)\n",
    "\n",
    "clip_grad_norm = float(0.5)\n",
    "\n",
    "pre_obs_norm_step = int(3000)#int(10000) Not much effect\n",
    "\n",
    "HISTORY_SIZE = BATCH_SIZE\n",
    "STATES_USED = 13"
   ]
  },
  {
   "cell_type": "code",
   "execution_count": 7,
   "id": "766f3c0e",
   "metadata": {
    "ExecuteTime": {
     "end_time": "2021-10-15T18:42:16.286831Z",
     "start_time": "2021-10-15T18:42:16.104492Z"
    }
   },
   "outputs": [],
   "source": [
    "input_size = [BATCH_SIZE,STATES_USED]  \n",
    "output_size = 192 #64*3"
   ]
  },
  {
   "cell_type": "code",
   "execution_count": 8,
   "id": "9a4371f4",
   "metadata": {
    "ExecuteTime": {
     "end_time": "2021-10-15T18:42:16.485646Z",
     "start_time": "2021-10-15T18:42:16.289556Z"
    }
   },
   "outputs": [],
   "source": [
    "f = open('obs_rms.pkl', 'rb')\n",
    "obs_rms = pickle.load(f)"
   ]
  },
  {
   "cell_type": "code",
   "execution_count": 9,
   "id": "f31f6a76",
   "metadata": {
    "ExecuteTime": {
     "end_time": "2021-10-15T18:42:16.671625Z",
     "start_time": "2021-10-15T18:42:16.488183Z"
    }
   },
   "outputs": [],
   "source": [
    "agent = ICMAgent\n",
    "\n",
    "agent = agent(\n",
    "        input_size,\n",
    "        output_size,\n",
    "        num_worker,\n",
    "        num_step,\n",
    "        gamma,\n",
    "        lam=lam,\n",
    "        learning_rate=learning_rate,\n",
    "        ent_coef=entropy_coef,\n",
    "        clip_grad_norm=clip_grad_norm,\n",
    "        epoch=epoch,\n",
    "        batch_size=BATCH_SIZE,\n",
    "        ppo_eps=ppo_eps,\n",
    "        eta=eta,\n",
    "        use_cuda=False,\n",
    "        use_gae=False,\n",
    "        use_noisy_net=False\n",
    "    )"
   ]
  },
  {
   "cell_type": "code",
   "execution_count": 10,
   "id": "fff44428",
   "metadata": {
    "ExecuteTime": {
     "end_time": "2021-10-15T18:42:16.989388Z",
     "start_time": "2021-10-15T18:42:16.674353Z"
    }
   },
   "outputs": [],
   "source": [
    "states = np.zeros([1, BATCH_SIZE, 1,STATES_USED])"
   ]
  },
  {
   "cell_type": "code",
   "execution_count": 11,
   "id": "6f51d1d6",
   "metadata": {
    "ExecuteTime": {
     "end_time": "2021-10-15T18:42:17.234189Z",
     "start_time": "2021-10-15T18:42:16.991728Z"
    }
   },
   "outputs": [
    {
     "data": {
      "text/plain": [
       "<All keys matched successfully>"
      ]
     },
     "execution_count": 11,
     "metadata": {},
     "output_type": "execute_result"
    }
   ],
   "source": [
    "agent.model.load_state_dict(torch.load(model_path))\n",
    "agent.icm.load_state_dict(torch.load(icm_path))"
   ]
  },
  {
   "cell_type": "code",
   "execution_count": 12,
   "id": "8d1585f2",
   "metadata": {
    "ExecuteTime": {
     "end_time": "2021-10-15T18:42:17.443101Z",
     "start_time": "2021-10-15T18:42:17.237073Z"
    }
   },
   "outputs": [],
   "source": [
    "Transition = namedtuple('Transition',\n",
    "                        ('state'))\n",
    "\n",
    "\n",
    "class ReplayMemory(object):\n",
    "\n",
    "    def __init__(self, capacity):\n",
    "        self.memory = deque([],maxlen=capacity)\n",
    "\n",
    "    def push(self, *args):\n",
    "        \"\"\"Save a transition\"\"\"\n",
    "        self.memory.append(Transition(*args))\n",
    "\n",
    "    def sample(self, batch_size:int=BATCH_SIZE):\n",
    "        return random.sample(self.memory, BATCH_SIZE)\n",
    "\n",
    "    def __len__(self):\n",
    "        return len(self.memory)"
   ]
  },
  {
   "cell_type": "code",
   "execution_count": 13,
   "id": "a3110e2f",
   "metadata": {
    "ExecuteTime": {
     "end_time": "2021-10-15T18:42:17.690648Z",
     "start_time": "2021-10-15T18:42:17.445314Z"
    }
   },
   "outputs": [],
   "source": [
    "history = ReplayMemory(HISTORY_SIZE)\n",
    "\n",
    "for i in range(HISTORY_SIZE):\n",
    "    history.push(np.zeros((STATES_USED, )))"
   ]
  },
  {
   "cell_type": "code",
   "execution_count": 14,
   "id": "d0c3ac92",
   "metadata": {
    "ExecuteTime": {
     "end_time": "2021-10-15T18:42:17.981255Z",
     "start_time": "2021-10-15T18:42:17.694308Z"
    }
   },
   "outputs": [],
   "source": [
    "def run(action,env:gym.envs,history:ReplayMemory,df):\n",
    "    s, reward, done, info = env.step([action//64, action%64])\n",
    "    \n",
    "    df = df.append({\n",
    "        'UE':action//64,\n",
    "        'Beam':action%64,\n",
    "        'Reward':reward\n",
    "    },ignore_index=True)\n",
    "    \n",
    "    # print(type(s), s.shape)\n",
    "    history.push(s.astype(np.float))\n",
    "    \n",
    "    return [np.array(history.sample(BATCH_SIZE)), reward, done, done, reward,df]"
   ]
  },
  {
   "cell_type": "code",
   "execution_count": 15,
   "id": "ea294ecb",
   "metadata": {
    "ExecuteTime": {
     "end_time": "2021-10-15T18:42:18.226631Z",
     "start_time": "2021-10-15T18:42:17.984357Z"
    },
    "code_folding": []
   },
   "outputs": [],
   "source": [
    "def val(epi_val:list,gym_env_ind:list=None):\n",
    "    \n",
    "    with torch.no_grad():\n",
    "        \n",
    "        history = ReplayMemory(HISTORY_SIZE)\n",
    "        for i in range(HISTORY_SIZE):\n",
    "            history.push(np.zeros((STATES_USED, )))\n",
    "            \n",
    "        f = open('obs_rms.pkl', 'rb')\n",
    "        obs_rms = pickle.load(f)\n",
    "        \n",
    "        rall = 0\n",
    "        rd = False\n",
    "        intrinsic_reward_list = []\n",
    "        states = np.zeros([1, BATCH_SIZE, 1,STATES_USED])\n",
    "        \n",
    "        ovr_val = 0\n",
    "        csv_pd = list()\n",
    "        for episode in tqdm.notebook.tqdm(range(epi_val[1]-epi_val[0]+1),desc='Val'):\n",
    "            epi_pd = pd.DataFrame(columns=['UE','Beam','Reward'])\n",
    "            \n",
    "            if len(gym_env_ind) == 0:\n",
    "                env =  BeamSelectionEnv([episode,episode])\n",
    "            else:\n",
    "                env = (gym_env_ind[episode])\n",
    "                \n",
    "            rall=0\n",
    "            for steps in range(n_steps_epi_val[episode]):\n",
    "                \n",
    "                actions, value, policy = agent.get_action(\n",
    "                    (states - obs_rms.mean) / np.sqrt(obs_rms.var)\n",
    "                )\n",
    "                \n",
    "                next_states, rewards, dones, real_dones, log_rewards, next_obs = [], [], [],\\\n",
    "                    [], [], []\n",
    "                \n",
    "                for action in actions:\n",
    "                    s, r, d, rd, lr,epi_pd = run(action,env,history,epi_pd)\n",
    "                    rall += r\n",
    "                    next_states.append(s)\n",
    "                \n",
    "                next_states = np.stack(next_states)\n",
    "                states = next_states[:, :, :, :]\n",
    "                \n",
    "            print(f'Running avg for episode {epi_val[0]+episode} is {rall/steps}')\n",
    "            ovr_val +=rall\n",
    "            csv_pd.append(epi_pd)\n",
    "        \n",
    "        print(f'Overall mean reward is {ovr_val/n_steps_val} ')\n",
    "        return csv_pd"
   ]
  },
  {
   "cell_type": "code",
   "execution_count": 16,
   "id": "05b2ba58",
   "metadata": {
    "ExecuteTime": {
     "end_time": "2021-10-15T18:50:14.373527Z",
     "start_time": "2021-10-15T18:42:18.230293Z"
    }
   },
   "outputs": [
    {
     "data": {
      "application/vnd.jupyter.widget-view+json": {
       "model_id": "e9efb48eb5814642b3854f57cd35afb5",
       "version_major": 2,
       "version_minor": 0
      },
      "text/plain": [
       "Val:   0%|          | 0/10 [00:00<?, ?it/s]"
      ]
     },
     "metadata": {},
     "output_type": "display_data"
    },
    {
     "name": "stdout",
     "output_type": "stream",
     "text": [
      "Running avg for episode 500 is -0.1411112611270135\n",
      "Running avg for episode 501 is -0.1761471468740525\n",
      "Running avg for episode 502 is -0.1503640912378339\n",
      "Running avg for episode 503 is -0.15393024553394868\n",
      "Running avg for episode 504 is -0.14676127333914663\n",
      "Running avg for episode 505 is -0.17192274101291485\n",
      "Running avg for episode 506 is -0.1426154395151532\n",
      "Running avg for episode 507 is -0.14492012816123556\n",
      "Running avg for episode 508 is -0.16391595449056262\n",
      "Running avg for episode 509 is -0.14430467986662124\n",
      "Overall mean reward is -0.15302723135354662 \n"
     ]
    }
   ],
   "source": [
    "csv_pd = val(epi_val,gym_env_ind_val)"
   ]
  },
  {
   "cell_type": "code",
   "execution_count": 20,
   "id": "a9c78c04",
   "metadata": {
    "ExecuteTime": {
     "end_time": "2021-10-15T18:56:35.903341Z",
     "start_time": "2021-10-15T18:56:35.385515Z"
    }
   },
   "outputs": [],
   "source": [
    "import os\n",
    "os.makedirs('./eval',exist_ok=True)\n",
    "for i in range(len(n_steps_epi_val)):\n",
    "    csv_pd[i].to_csv(f'./eval/{i}.csv')"
   ]
  },
  {
   "cell_type": "code",
   "execution_count": 21,
   "id": "906758e0",
   "metadata": {
    "ExecuteTime": {
     "end_time": "2021-10-15T18:58:16.189361Z",
     "start_time": "2021-10-15T18:58:16.179411Z"
    }
   },
   "outputs": [
    {
     "data": {
      "text/plain": [
       "7326"
      ]
     },
     "execution_count": 21,
     "metadata": {},
     "output_type": "execute_result"
    }
   ],
   "source": [
    "len(csv_pd[0])"
   ]
  }
 ],
 "metadata": {
  "kernelspec": {
   "display_name": "Python 3",
   "language": "python",
   "name": "python3"
  },
  "language_info": {
   "codemirror_mode": {
    "name": "ipython",
    "version": 3
   },
   "file_extension": ".py",
   "mimetype": "text/x-python",
   "name": "python",
   "nbconvert_exporter": "python",
   "pygments_lexer": "ipython3",
   "version": "3.6.13"
  },
  "notify_time": "0",
  "toc": {
   "base_numbering": 1,
   "nav_menu": {},
   "number_sections": true,
   "sideBar": false,
   "skip_h1_title": false,
   "title_cell": "Table of Contents",
   "title_sidebar": "Contents",
   "toc_cell": false,
   "toc_position": {},
   "toc_section_display": true,
   "toc_window_display": false
  },
  "varInspector": {
   "cols": {
    "lenName": 16,
    "lenType": 16,
    "lenVar": 40
   },
   "kernels_config": {
    "python": {
     "delete_cmd_postfix": "",
     "delete_cmd_prefix": "del ",
     "library": "var_list.py",
     "varRefreshCmd": "print(var_dic_list())"
    },
    "r": {
     "delete_cmd_postfix": ") ",
     "delete_cmd_prefix": "rm(",
     "library": "var_list.r",
     "varRefreshCmd": "cat(var_dic_list()) "
    }
   },
   "types_to_exclude": [
    "module",
    "function",
    "builtin_function_or_method",
    "instance",
    "_Feature"
   ],
   "window_display": false
  }
 },
 "nbformat": 4,
 "nbformat_minor": 5
}
