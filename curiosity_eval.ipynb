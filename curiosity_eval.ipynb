{
 "cells": [
  {
   "cell_type": "code",
   "execution_count": 1,
   "id": "56a8b6e7",
   "metadata": {
    "ExecuteTime": {
     "end_time": "2021-10-15T19:00:19.949685Z",
     "start_time": "2021-10-15T19:00:17.569438Z"
    }
   },
   "outputs": [],
   "source": [
    "import torch\n",
    "import torch.nn as nn\n",
    "import torch.optim as optim\n",
    "import torch.nn.functional as F\n",
    "from torch.utils.tensorboard import SummaryWriter\n",
    "\n",
    "import tqdm\n",
    "\n",
    "import math\n",
    "import random\n",
    "import numpy as np\n",
    "import matplotlib\n",
    "import matplotlib.pyplot as plt\n",
    "from collections import namedtuple, deque\n",
    "from itertools import count\n",
    "import copy\n",
    "from torch.multiprocessing import Pipe\n",
    "import pandas as pd\n",
    "\n",
    "import gym\n",
    "import caviar_tools\n",
    "from beamselect_env import BeamSelectionEnv\n",
    "\n",
    "# set up matplotlib\n",
    "is_ipython = 'inline' in matplotlib.get_backend()\n",
    "if is_ipython:\n",
    "    from IPython import display\n",
    "\n",
    "plt.ion()\n",
    "device = torch.device(\"cpu\")"
   ]
  },
  {
   "cell_type": "code",
   "execution_count": 2,
   "id": "ba751f9f",
   "metadata": {
    "ExecuteTime": {
     "end_time": "2021-10-15T19:03:27.630696Z",
     "start_time": "2021-10-15T19:00:19.952985Z"
    }
   },
   "outputs": [
    {
     "name": "stderr",
     "output_type": "stream",
     "text": [
      "/home/mohit/anaconda3/envs/ITU/lib/python3.6/site-packages/gym/logger.py:30: UserWarning: \u001b[33mWARN: Box bound precision lowered by casting to float32\u001b[0m\n",
      "  warnings.warn(colorize('%s: %s'%('WARN', msg % args), 'yellow'))\n"
     ]
    }
   ],
   "source": [
    "epi_val = [500,699]\n",
    "gym_env_ind_val = list()\n",
    "for i in range(epi_val[0],epi_val[1]+1):\n",
    "    gym_env_ind_val.append(BeamSelectionEnv([i,i]))\n",
    "\n",
    "n_steps_epi_val = list()\n",
    "for i in range(epi_val[0],epi_val[1]+1):\n",
    "    n_steps_epi_val.append(caviar_tools.linecount([i,i]))\n",
    "\n",
    "# n_steps = sum(n_steps_epi)\n",
    "n_steps_val = sum(n_steps_epi_val)"
   ]
  },
  {
   "cell_type": "code",
   "execution_count": 3,
   "id": "fd811bfd",
   "metadata": {
    "ExecuteTime": {
     "end_time": "2021-10-15T19:03:27.641066Z",
     "start_time": "2021-10-15T19:03:27.633463Z"
    }
   },
   "outputs": [],
   "source": [
    "from agents_cur import *\n",
    "from utils_cur import *\n",
    "\n",
    "import numpy as np\n",
    "import pickle"
   ]
  },
  {
   "cell_type": "code",
   "execution_count": 4,
   "id": "51c316d9",
   "metadata": {
    "ExecuteTime": {
     "end_time": "2021-10-15T18:42:15.692796Z",
     "start_time": "2021-10-15T18:42:15.379933Z"
    }
   },
   "outputs": [],
   "source": [
    "train_method = 'ICM'\n",
    "env_id = None #BreakoutNoFrameskip-v4\n",
    "env_type = 'beamselect'"
   ]
  },
  {
   "cell_type": "code",
   "execution_count": 5,
   "id": "830a3afc",
   "metadata": {
    "ExecuteTime": {
     "end_time": "2021-10-15T18:42:15.868128Z",
     "start_time": "2021-10-15T18:42:15.697276Z"
    }
   },
   "outputs": [],
   "source": [
    "model_path = './model_state_dict/model_curiosity'\n",
    "icm_path = './model_state_dict/icm_curiosity'"
   ]
  },
  {
   "cell_type": "code",
   "execution_count": 6,
   "id": "0c8157d1",
   "metadata": {
    "ExecuteTime": {
     "end_time": "2021-10-15T18:42:16.100229Z",
     "start_time": "2021-10-15T18:42:15.871575Z"
    }
   },
   "outputs": [],
   "source": [
    "lam = 0.95\n",
    "num_worker = 1\n",
    "\n",
    "num_step = int(256)\n",
    "\n",
    "ppo_eps = float(0.1)\n",
    "epoch = int(3)\n",
    "mini_batch = int(8)\n",
    "BATCH_SIZE = int(num_step * num_worker / mini_batch) #16\n",
    "learning_rate = float(1e-4)\n",
    "entropy_coef = float(0.001)\n",
    "gamma = float(0.8)\n",
    "eta = float(1)\n",
    "\n",
    "clip_grad_norm = float(0.5)\n",
    "\n",
    "pre_obs_norm_step = int(3000)#int(10000) Not much effect\n",
    "\n",
    "HISTORY_SIZE = BATCH_SIZE\n",
    "STATES_USED = 13"
   ]
  },
  {
   "cell_type": "code",
   "execution_count": 7,
   "id": "3e5c025f",
   "metadata": {
    "ExecuteTime": {
     "end_time": "2021-10-15T19:03:28.327372Z",
     "start_time": "2021-10-15T19:03:28.232053Z"
    }
   },
   "outputs": [],
   "source": [
    "input_size = [BATCH_SIZE,STATES_USED]  \n",
    "output_size = 192 #64*3"
   ]
  },
  {
   "cell_type": "code",
   "execution_count": 8,
   "id": "5b5901ad",
   "metadata": {
    "ExecuteTime": {
     "end_time": "2021-10-15T19:03:28.425491Z",
     "start_time": "2021-10-15T19:03:28.330152Z"
     }
   },
   "outputs": [],
   "source": [
    "f = open('obs_rms.pkl', 'rb')\n",
    "obs_rms = pickle.load(f)"
   ]
  },
  {
   "cell_type": "code",
   "execution_count": 9,
   "id": "416825af",
   "metadata": {
    "ExecuteTime": {
     "end_time": "2021-10-15T19:03:28.550169Z",
     "start_time": "2021-10-15T19:03:28.427684Z"
    }
   },
   "outputs": [],
   "source": [
    "agent = ICMAgent\n",
    "\n",
    "agent = agent(\n",
    "        input_size,\n",
    "        output_size,\n",
    "        num_worker,\n",
    "        num_step,\n",
    "        gamma,\n",
    "        lam=lam,\n",
    "        learning_rate=learning_rate,\n",
    "        ent_coef=entropy_coef,\n",
    "        clip_grad_norm=clip_grad_norm,\n",
    "        epoch=epoch,\n",
    "        batch_size=BATCH_SIZE,\n",
    "        ppo_eps=ppo_eps,\n",
    "        eta=eta,\n",
    "        use_cuda=False,\n",
    "        use_gae=False,\n",
    "        use_noisy_net=False\n",
    "    )"
   ]
  },
  {
   "cell_type": "code",
   "execution_count": 10,
   "id": "9eca6b06",
   "metadata": {
    "ExecuteTime": {
     "end_time": "2021-10-15T19:03:28.696008Z",
     "start_time": "2021-10-15T19:03:28.552664Z"
    }
   },
   "outputs": [],
   "source": [
    "states = np.zeros([1, BATCH_SIZE, 1,STATES_USED])"
   ]
  },
  {
   "cell_type": "code",
   "execution_count": 11,
   "id": "0f67b3ee",
   "metadata": {
    "ExecuteTime": {
     "end_time": "2021-10-15T19:03:28.858213Z",
     "start_time": "2021-10-15T19:03:28.698716Z"
    }
   },
   "outputs": [
    {
     "data": {
      "text/plain": [
       "<All keys matched successfully>"
      ]
     },
     "execution_count": 11,
     "metadata": {},
     "output_type": "execute_result"
    }
   ],
   "source": [
    "agent.model.load_state_dict(torch.load(model_path))\n",
    "agent.icm.load_state_dict(torch.load(icm_path))"
   ]
  },
  {
   "cell_type": "code",
   "execution_count": 12,
   "id": "5f5b5065",
   "metadata": {
    "ExecuteTime": {
     "end_time": "2021-10-15T19:03:28.944096Z",
     "start_time": "2021-10-15T19:03:28.861607Z"
    }
   },
   "outputs": [],
   "source": [
    "Transition = namedtuple('Transition',\n",
    "                        ('state'))\n",
    "\n",
    "\n",
    "class ReplayMemory(object):\n",
    "\n",
    "    def __init__(self, capacity):\n",
    "        self.memory = deque([],maxlen=capacity)\n",
    "\n",
    "    def push(self, *args):\n",
    "        \"\"\"Save a transition\"\"\"\n",
    "        self.memory.append(Transition(*args))\n",
    "\n",
    "    def sample(self, batch_size:int=BATCH_SIZE):\n",
    "        return random.sample(self.memory, BATCH_SIZE)\n",
    "\n",
    "    def __len__(self):\n",
    "        return len(self.memory)"
   ]
  },
  {
   "cell_type": "code",
   "execution_count": 13,
   "id": "266977f8",
   "metadata": {
    "ExecuteTime": {
     "end_time": "2021-10-15T19:03:29.052832Z",
     "start_time": "2021-10-15T19:03:28.947017Z"
    }
   },
   "outputs": [],
   "source": [
    "history = ReplayMemory(HISTORY_SIZE)\n",
    "\n",
    "for i in range(HISTORY_SIZE):\n",
    "    history.push(np.zeros((STATES_USED, )))"
   ]
  },
  {
   "cell_type": "code",
   "execution_count": 14,
   "id": "c99b5027",
   "metadata": {
    "ExecuteTime": {
     "end_time": "2021-10-15T19:03:29.151253Z",
     "start_time": "2021-10-15T19:03:29.055417Z"
    }
   },
   "outputs": [],
   "source": [
    "def run(action,env:gym.envs,history:ReplayMemory,df):\n",
    "    s, reward, done, info = env.step([action//64, action%64])\n",
    "    \n",
    "    df = df.append({\n",
    "        'UE':action//64,\n",
    "        'Beam':action%64,\n",
    "        'Reward':reward\n",
    "    },ignore_index=True)\n",
    "    \n",
    "    # print(type(s), s.shape)\n",
    "    history.push(s.astype(np.float))\n",
    "    \n",
    "    return [np.array(history.sample(BATCH_SIZE)), reward, done, done, reward,df]"
   ]
  },
  {
   "cell_type": "code",
   "execution_count": 15,
   "id": "f701452d",
   "metadata": {
    "ExecuteTime": {
     "end_time": "2021-10-15T19:03:29.250272Z",
     "start_time": "2021-10-15T19:03:29.154057Z"
    },
    "code_folding": []
   },
   "outputs": [],
   "source": [
    "def val(epi_val:list,gym_env_ind:list=None):\n",
    "    \n",
    "    with torch.no_grad():\n",
    "        \n",
    "        history = ReplayMemory(HISTORY_SIZE)\n",
    "        for i in range(HISTORY_SIZE):\n",
    "            history.push(np.zeros((STATES_USED, )))\n",
    "            \n",
    "        f = open('obs_rms.pkl', 'rb')\n",
    "        obs_rms = pickle.load(f)\n",
    "        \n",
    "        rall = 0\n",
    "        rd = False\n",
    "        intrinsic_reward_list = []\n",
    "        states = np.zeros([1, BATCH_SIZE, 1,STATES_USED])\n",
    "        \n",
    "        ovr_val = 0\n",
    "        csv_pd = list()\n",
    "        for episode in tqdm.notebook.tqdm(range(epi_val[1]-epi_val[0]+1),desc='Val'):\n",
    "            epi_pd = pd.DataFrame(columns=['UE','Beam','Reward'])\n",
    "            \n",
    "            if len(gym_env_ind) == 0:\n",
    "                env =  BeamSelectionEnv([episode,episode])\n",
    "            else:\n",
    "                env = (gym_env_ind[episode])\n",
    "                \n",
    "            rall=0\n",
    "            for steps in range(n_steps_epi_val[episode]):\n",
    "                \n",
    "                actions, value, policy = agent.get_action(\n",
    "                    (states - obs_rms.mean) / np.sqrt(obs_rms.var)\n",
    "                )\n",
    "                \n",
    "                next_states, rewards, dones, real_dones, log_rewards, next_obs = [], [], [],\\\n",
    "                    [], [], []\n",
    "                \n",
    "                for action in actions:\n",
    "                    s, r, d, rd, lr,epi_pd = run(action,env,history,epi_pd)\n",
    "                    rall += r\n",
    "                    next_states.append(s)\n",
    "                \n",
    "                next_states = np.stack(next_states)\n",
    "                states = next_states[:, :, :, :]\n",
    "                \n",
    "            print(f'Running avg for episode {epi_val[0]+episode} is {rall/steps}')\n",
    "            ovr_val +=rall\n",
    "            csv_pd.append(epi_pd)\n",
    "        \n",
    "        print(f'Overall mean reward is {ovr_val/n_steps_val} ')\n",
    "        return csv_pd"
   ]
  },
  {
   "cell_type": "code",
   "execution_count": 16,
   "id": "955e3b95",
   "metadata": {
    "ExecuteTime": {
     "end_time": "2021-10-15T19:11:05.893491Z",
     "start_time": "2021-10-15T19:03:29.252498Z"
    }
   },
   "outputs": [
    {
     "data": {
      "application/vnd.jupyter.widget-view+json": {
       "model_id": "fb4edd1c8c8d4c508bab4b58b59fb670",
       "version_major": 2,
       "version_minor": 0
      },
      "text/plain": [
       "Val:   0%|          | 0/200 [00:00<?, ?it/s]"
      ]
     },
     "metadata": {},
     "output_type": "display_data"
    },
    {
     "name": "stdout",
     "output_type": "stream",
     "text": [
      "Running avg for episode 500 is -0.14073507538446728\n",
      "Running avg for episode 501 is -0.176193891371525\n",
      "Running avg for episode 502 is -0.15038846878094286\n",
      "Running avg for episode 503 is -0.15249216437293694\n",
      "Running avg for episode 504 is -0.14827350990710222\n",
      "Running avg for episode 505 is -0.17164951651679805\n",
      "Running avg for episode 506 is -0.1439573445074146\n",
      "Running avg for episode 507 is -0.13891725770905972\n",
      "Running avg for episode 508 is -0.16586435674767822\n",
      "Running avg for episode 509 is -0.14619525249785653\n",
      "Running avg for episode 510 is -0.17282102772914001\n",
      "Running avg for episode 511 is -0.14972575001837238\n",
      "Running avg for episode 512 is -0.17061781310661966\n",
      "Running avg for episode 513 is -0.14490401640609307\n",
      "Running avg for episode 514 is -0.16321758982695211\n",
      "Running avg for episode 515 is -0.14670270986893177\n",
      "Running avg for episode 516 is -0.15079628404582962\n",
      "Running avg for episode 517 is -0.16600396313016663\n",
      "Running avg for episode 518 is -0.08430804320439624\n",
      "Running avg for episode 519 is -0.13813583527914697\n",
      "Running avg for episode 520 is -0.1510303110244955\n",
      "Running avg for episode 521 is -0.14059605777483933\n",
      "Running avg for episode 522 is -0.15180776847904565\n",
      "Running avg for episode 523 is -0.1476093021461712\n",
      "Running avg for episode 524 is -0.17004412887843295\n",
      "Running avg for episode 525 is -0.17243138291036086\n",
      "Running avg for episode 526 is -0.17190845317487388\n",
      "Running avg for episode 527 is -0.14217414466634212\n",
      "Running avg for episode 528 is -0.14325508182709235\n",
      "Running avg for episode 529 is -0.15019656653789137\n",
      "Running avg for episode 530 is -0.17259074977540462\n",
      "Running avg for episode 531 is -0.17181556805155881\n",
      "Running avg for episode 532 is -0.15976319919706092\n",
      "Running avg for episode 533 is -0.14191014666882754\n",
      "Running avg for episode 534 is -0.1690390998351846\n",
      "Running avg for episode 535 is -0.1544497094801797\n",
      "Running avg for episode 536 is -0.16155814026924084\n",
      "Running avg for episode 537 is -0.1463451487507158\n",
      "Running avg for episode 538 is -0.17431749659180243\n",
      "Running avg for episode 539 is -0.16565595153297696\n",
      "Running avg for episode 540 is -0.16986907731535222\n",
      "Running avg for episode 541 is -0.16675816031974505\n",
      "Running avg for episode 542 is -0.13889863720389156\n",
      "Running avg for episode 543 is -0.1582271140221121\n",
      "Running avg for episode 544 is -0.15778407760479085\n",
      "Running avg for episode 545 is -0.16500087525610152\n",
      "Running avg for episode 546 is -0.13218362390336985\n",
      "Running avg for episode 547 is -0.16459148253184544\n",
      "Running avg for episode 548 is -0.17108045804178185\n",
      "Running avg for episode 549 is -0.12552277066473172\n",
      "Running avg for episode 550 is -0.16469940710282044\n",
      "Running avg for episode 551 is -0.11972267187647197\n",
      "Running avg for episode 552 is -0.1079119608868004\n",
      "Running avg for episode 553 is -0.1346079771702093\n",
      "Running avg for episode 554 is -0.1727082307175628\n",
      "Running avg for episode 555 is -0.17033174029226394\n",
      "Running avg for episode 556 is -0.1436545172578399\n",
      "Running avg for episode 557 is -0.14159397320718733\n",
      "Running avg for episode 558 is -0.13493345537131618\n",
      "Running avg for episode 559 is -0.15455568251256044\n",
      "Running avg for episode 560 is -0.16645064097685316\n",
      "Running avg for episode 561 is -0.17394481731717018\n",
      "Running avg for episode 562 is -0.10178725396457992\n",
      "Running avg for episode 563 is -0.17592935153238148\n",
      "Running avg for episode 564 is -0.1506844070211572\n",
      "Running avg for episode 565 is -0.1519075100350348\n",
      "Running avg for episode 566 is -0.17430186370107623\n",
      "Running avg for episode 567 is -0.12848417514476523\n",
      "Running avg for episode 568 is -0.14144722485193476\n",
      "Running avg for episode 569 is -0.1650968601094445\n",
      "Running avg for episode 570 is -0.15314586779609335\n",
      "Running avg for episode 571 is -0.1624254300028221\n",
      "Running avg for episode 572 is -0.11263957349107032\n",
      "Running avg for episode 573 is -0.14414386846579208\n",
      "Running avg for episode 574 is -0.13476245605369122\n",
      "Running avg for episode 575 is -0.1473872411133939\n",
      "Running avg for episode 576 is -0.1017081865817172\n",
      "Running avg for episode 577 is -0.15828409144311087\n",
      "Running avg for episode 578 is -0.1480382229542958\n",
      "Running avg for episode 579 is -0.15127598855766525\n",
      "Running avg for episode 580 is -0.16728214460188867\n",
      "Running avg for episode 581 is -0.1678271190710713\n",
      "Running avg for episode 582 is -0.15529779555962125\n",
      "Running avg for episode 583 is -0.17068653547951632\n",
      "Running avg for episode 584 is -0.15223878234543034\n",
      "Running avg for episode 585 is -0.158395975320205\n",
      "Running avg for episode 586 is -0.1477790644205367\n",
      "Running avg for episode 587 is -0.15878453349813235\n",
      "Running avg for episode 588 is -0.14933560759121053\n",
      "Running avg for episode 589 is -0.15342575142727713\n",
      "Running avg for episode 590 is -0.14031878958768615\n",
      "Running avg for episode 591 is -0.13138957348647068\n",
      "Running avg for episode 592 is -0.16379515853580756\n",
      "Running avg for episode 593 is -0.1567575664550911\n",
      "Running avg for episode 594 is -0.16928431171007877\n",
      "Running avg for episode 595 is -0.16859435027386263\n",
      "Running avg for episode 596 is -0.15055892407330895\n",
      "Running avg for episode 597 is -0.15977228288034195\n",
      "Running avg for episode 598 is -0.16785171743298485\n",
      "Running avg for episode 599 is -0.13449529279901004\n",
      "Running avg for episode 600 is -0.16801740940690915\n",
      "Running avg for episode 601 is -0.1685036912323927\n",
      "Running avg for episode 602 is -0.1409282990876553\n",
      "Running avg for episode 603 is -0.16790377258429623\n",
      "Running avg for episode 604 is -0.1532089052866629\n",
      "Running avg for episode 605 is -0.17335913416594653\n",
      "Running avg for episode 606 is -0.08168835617692127\n",
      "Running avg for episode 607 is -0.14593799402838123\n",
      "Running avg for episode 608 is -0.13373976886412703\n",
      "Running avg for episode 609 is -0.14441528923789718\n",
      "Running avg for episode 610 is -0.16476986790248624\n",
      "Running avg for episode 611 is -0.12092586869929908\n",
      "Running avg for episode 612 is -0.1651105151008855\n",
      "Running avg for episode 613 is -0.13825926035113684\n",
      "Running avg for episode 614 is -0.13384810964577307\n",
      "Running avg for episode 615 is -0.06414173693400858\n",
      "Running avg for episode 616 is -0.1347419200344587\n",
      "Running avg for episode 617 is -0.126465212508333\n",
      "Running avg for episode 618 is -0.14148995539783468\n",
      "Running avg for episode 619 is -0.1401034441033805\n",
      "Running avg for episode 620 is -0.15878548788803834\n",
      "Running avg for episode 621 is -0.15333877672240195\n",
      "Running avg for episode 622 is -0.1617953181284597\n",
      "Running avg for episode 623 is -0.14187518360423712\n",
      "Running avg for episode 624 is -0.16002652777756568\n",
      "Running avg for episode 625 is -0.17022330587407636\n",
      "Running avg for episode 626 is -0.14849204034967428\n",
      "Running avg for episode 627 is -0.1641837470728828\n",
      "Running avg for episode 628 is -0.14986512717141373\n",
      "Running avg for episode 629 is -0.1559407869887031\n",
      "Running avg for episode 630 is -0.14749698198895986\n",
      "Running avg for episode 631 is -0.14580971756105354\n",
      "Running avg for episode 632 is -0.11996717670558063\n",
      "Running avg for episode 633 is -0.1117883390160924\n",
      "Running avg for episode 634 is -0.16110729834004037\n",
      "Running avg for episode 635 is -0.12672187993077402\n",
      "Running avg for episode 636 is -0.15567307733009506\n",
      "Running avg for episode 637 is -0.13676891817205597\n",
      "Running avg for episode 638 is -0.14522871380269567\n",
      "Running avg for episode 639 is -0.1437556612457183\n",
      "Running avg for episode 640 is -0.12847570530669264\n",
      "Running avg for episode 641 is -0.17730541894634638\n",
      "Running avg for episode 642 is -0.15089614722330308\n",
      "Running avg for episode 643 is -0.16361717444832355\n",
      "Running avg for episode 644 is -0.1651748804980455\n",
      "Running avg for episode 645 is -0.15628996945872445\n",
      "Running avg for episode 646 is -0.14578085711089128\n",
      "Running avg for episode 647 is -0.1488113174225806\n",
      "Running avg for episode 648 is -0.17307992186593651\n",
      "Running avg for episode 649 is -0.10183272399738955\n",
      "Running avg for episode 650 is -0.17394098114266227\n",
      "Running avg for episode 651 is -0.11542048041269853\n",
      "Running avg for episode 652 is -0.11758483695072762\n",
      "Running avg for episode 653 is -0.10961198741326103\n",
      "Running avg for episode 654 is -0.1425665582524994\n",
      "Running avg for episode 655 is -0.1008099483275346\n",
      "Running avg for episode 656 is -0.13421874617550134\n",
      "Running avg for episode 657 is -0.1237364315711703\n",
      "Running avg for episode 658 is -0.1575034725590619\n"
     ]
    },
    {
     "name": "stdout",
     "output_type": "stream",
     "text": [
      "Running avg for episode 659 is -0.15858630125132459\n",
      "Running avg for episode 660 is -0.13557449893486986\n",
      "Running avg for episode 661 is -0.1725574884023059\n",
      "Running avg for episode 662 is -0.14440483700575502\n",
      "Running avg for episode 663 is -0.16536653531022805\n",
      "Running avg for episode 664 is -0.14322458527988904\n",
      "Running avg for episode 665 is -0.1697378353893487\n",
      "Running avg for episode 666 is -0.13238254442171127\n",
      "Running avg for episode 667 is -0.17710764339769763\n",
      "Running avg for episode 668 is -0.15573652066303126\n",
      "Running avg for episode 669 is -0.1721150580125699\n",
      "Running avg for episode 670 is -0.15368550357287558\n",
      "Running avg for episode 671 is -0.16849913425695603\n",
      "Running avg for episode 672 is -0.15894883429811996\n",
      "Running avg for episode 673 is -0.14959913771515304\n",
      "Running avg for episode 674 is -0.14602455134895795\n",
      "Running avg for episode 675 is -0.1627844190503161\n",
      "Running avg for episode 676 is -0.12950099251027275\n",
      "Running avg for episode 677 is -0.13639819965639716\n",
      "Running avg for episode 678 is -0.09710449751379002\n",
      "Running avg for episode 679 is -0.16043771578770594\n",
      "Running avg for episode 680 is -0.13191688267768706\n",
      "Running avg for episode 681 is -0.14151228639796945\n",
      "Running avg for episode 682 is -0.1214072006128013\n",
      "Running avg for episode 683 is -0.14180522482806548\n",
      "Running avg for episode 684 is -0.17735980611862426\n",
      "Running avg for episode 685 is -0.17177839704326298\n",
      "Running avg for episode 686 is -0.14098580483100484\n",
      "Running avg for episode 687 is -0.17485716643183072\n",
      "Running avg for episode 688 is -0.152839334176983\n",
      "Running avg for episode 689 is -0.1670932815221079\n",
      "Running avg for episode 690 is -0.1479231958751403\n",
      "Running avg for episode 691 is -0.1517589534307736\n",
      "Running avg for episode 692 is -0.14066402018813434\n",
      "Running avg for episode 693 is -0.1622527446308594\n",
      "Running avg for episode 694 is -0.10761598547050667\n",
      "Running avg for episode 695 is -0.14664324724585184\n",
      "Running avg for episode 696 is -0.12876350837359943\n",
      "Running avg for episode 697 is -0.1353374577972211\n",
      "Running avg for episode 698 is -0.13935235153634512\n",
      "Running avg for episode 699 is -0.13842321476682495\n",
      "Overall mean reward is -0.14863088268876906 \n"
     ]
    }
   ],
   "source": [
    "csv_pd = val(epi_val,gym_env_ind_val)"
   ]
  },
  {
   "cell_type": "code",
   "execution_count": 17,
   "id": "554ff506",
   "metadata": {
    "ExecuteTime": {
     "end_time": "2021-10-15T19:11:06.492399Z",
     "start_time": "2021-10-15T19:11:05.895988Z"
    }
   },
   "outputs": [],
   "source": [
    "import os\n",
    "os.makedirs('./eval',exist_ok=True)\n",
    "for i in range(len(n_steps_epi_val)):\n",
    "    csv_pd[i].to_csv(f'./eval/{i}.csv')"
   ]
  },
  {
   "cell_type": "code",
   "execution_count": 21,
   "id": "906758e0",
   "metadata": {
    "ExecuteTime": {
     "end_time": "2021-10-15T18:58:16.189361Z",
     "start_time": "2021-10-15T18:58:16.179411Z"
    }
   },
   "outputs": [
    {
     "data": {
      "text/plain": [
       "7326"
      ]
     },
     "execution_count": 21,
     "metadata": {},
     "output_type": "execute_result"
    }
   ],
   "source": [
    "len(csv_pd[0])"
   ]
  }
 ],
 "metadata": {
  "kernelspec": {
   "display_name": "Python 3",
   "language": "python",
   "name": "python3"
  },
  "language_info": {
   "codemirror_mode": {
    "name": "ipython",
    "version": 3
   },
   "file_extension": ".py",
   "mimetype": "text/x-python",
   "name": "python",
   "nbconvert_exporter": "python",
   "pygments_lexer": "ipython3",
   "version": "3.6.13"
  },
  "notify_time": "30",
  "toc": {
   "base_numbering": 1,
   "nav_menu": {},
   "number_sections": true,
   "sideBar": false,
   "skip_h1_title": false,
   "title_cell": "Table of Contents",
   "title_sidebar": "Contents",
   "toc_cell": false,
   "toc_position": {},
   "toc_section_display": true,
   "toc_window_display": false
  },
  "varInspector": {
   "cols": {
    "lenName": 16,
    "lenType": 16,
    "lenVar": 40
   },
   "kernels_config": {
    "python": {
     "delete_cmd_postfix": "",
     "delete_cmd_prefix": "del ",
     "library": "var_list.py",
     "varRefreshCmd": "print(var_dic_list())"
    },
    "r": {
     "delete_cmd_postfix": ") ",
     "delete_cmd_prefix": "rm(",
     "library": "var_list.r",
     "varRefreshCmd": "cat(var_dic_list()) "
    }
   },
   "types_to_exclude": [
    "module",
    "function",
    "builtin_function_or_method",
    "instance",
    "_Feature"
   ],
   "window_display": false
  }
 },
 "nbformat": 4,
 "nbformat_minor": 5
}
