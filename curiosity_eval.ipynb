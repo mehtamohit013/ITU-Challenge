{
 "cells": [
  {
   "cell_type": "code",
   "execution_count": 1,
   "id": "74e7c7f8",
   "metadata": {
    "ExecuteTime": {
     "end_time": "2021-10-15T17:14:09.025330Z",
     "start_time": "2021-10-15T17:14:06.873356Z"
    }
   },
   "outputs": [],
   "source": [
    "import torch\n",
    "import torch.nn as nn\n",
    "import torch.optim as optim\n",
    "import torch.nn.functional as F\n",
    "from torch.utils.tensorboard import SummaryWriter\n",
    "\n",
    "import tqdm\n",
    "\n",
    "import math\n",
    "import random\n",
    "import numpy as np\n",
    "import matplotlib\n",
    "import matplotlib.pyplot as plt\n",
    "from collections import namedtuple, deque\n",
    "from itertools import count\n",
    "import copy\n",
    "from torch.multiprocessing import Pipe\n",
    "\n",
    "import gym\n",
    "import caviar_tools\n",
    "from beamselect_env import BeamSelectionEnv\n",
    "\n",
    "# set up matplotlib\n",
    "is_ipython = 'inline' in matplotlib.get_backend()\n",
    "if is_ipython:\n",
    "    from IPython import display\n",
    "\n",
    "plt.ion()\n",
    "device = torch.device(\"cpu\")"
   ]
  },
  {
   "cell_type": "code",
   "execution_count": 3,
   "id": "0cc6b87b",
   "metadata": {
    "ExecuteTime": {
     "end_time": "2021-10-15T17:15:06.922918Z",
     "start_time": "2021-10-15T17:14:45.612837Z"
    }
   },
   "outputs": [
    {
     "name": "stderr",
     "output_type": "stream",
     "text": [
      "/home/mohit/anaconda3/envs/ITU/lib/python3.6/site-packages/gym/logger.py:30: UserWarning: \u001b[33mWARN: Box bound precision lowered by casting to float32\u001b[0m\n",
      "  warnings.warn(colorize('%s: %s'%('WARN', msg % args), 'yellow'))\n"
     ]
    }
   ],
   "source": [
    "epi_val = [500,500]\n",
    "gym_env_ind_val = list()\n",
    "for i in range(epi_val[0],epi_val[1]+1):\n",
    "    gym_env_ind_val.append(BeamSelectionEnv([i,i]))\n",
    "\n",
    "n_steps_epi_val = list()\n",
    "for i in range(epi_val[0],epi_val[1]+1):\n",
    "    n_steps_epi_val.append(caviar_tools.linecount([i,i]))\n",
    "\n",
    "# n_steps = sum(n_steps_epi)\n",
    "n_steps_val = sum(n_steps_epi_val)"
   ]
  },
  {
   "cell_type": "code",
   "execution_count": 4,
   "id": "a13ccff6",
   "metadata": {
    "ExecuteTime": {
     "end_time": "2021-10-15T17:15:14.966311Z",
     "start_time": "2021-10-15T17:15:14.956203Z"
    }
   },
   "outputs": [],
   "source": [
    "from agents_cur import *\n",
    "from utils_cur import *\n",
    "\n",
    "import numpy as np\n",
    "import pickle"
   ]
  },
  {
   "cell_type": "code",
   "execution_count": 5,
   "id": "b8a8b08a",
   "metadata": {
    "ExecuteTime": {
     "end_time": "2021-10-15T17:15:15.709348Z",
     "start_time": "2021-10-15T17:15:15.705640Z"
    }
   },
   "outputs": [],
   "source": [
    "train_method = 'ICM'\n",
    "env_id = None #BreakoutNoFrameskip-v4\n",
    "env_type = 'beamselect'"
   ]
  },
  {
   "cell_type": "code",
   "execution_count": 6,
   "id": "9dafc0c5",
   "metadata": {
    "ExecuteTime": {
     "end_time": "2021-10-15T17:15:16.198339Z",
     "start_time": "2021-10-15T17:15:16.195012Z"
    }
   },
   "outputs": [],
   "source": [
    "model_path = './model_state_dict/model_curiosity'\n",
    "icm_path = './model_state_dict/icm_curiosity'"
   ]
  },
  {
   "cell_type": "code",
   "execution_count": 7,
   "id": "4bbce45e",
   "metadata": {
    "ExecuteTime": {
     "end_time": "2021-10-15T17:15:16.669047Z",
     "start_time": "2021-10-15T17:15:16.657426Z"
    }
   },
   "outputs": [],
   "source": [
    "lam = 0.95\n",
    "num_worker = 1\n",
    "\n",
    "num_step = int(512)\n",
    "\n",
    "ppo_eps = float(0.1)\n",
    "epoch = int(3)\n",
    "mini_batch = int(8)\n",
    "BATCH_SIZE = int(num_step * num_worker / mini_batch) #16\n",
    "learning_rate = float(1e-4)\n",
    "entropy_coef = float(0.001)\n",
    "gamma = float(0.8)\n",
    "eta = float(1)\n",
    "\n",
    "clip_grad_norm = float(0.5)\n",
    "\n",
    "pre_obs_norm_step = int(3000)#int(10000) Not much effect\n",
    "\n",
    "HISTORY_SIZE = BATCH_SIZE*2\n",
    "STATES_USED = 13"
   ]
  },
  {
   "cell_type": "code",
   "execution_count": 8,
   "id": "79326f50",
   "metadata": {
    "ExecuteTime": {
     "end_time": "2021-10-15T17:15:17.103477Z",
     "start_time": "2021-10-15T17:15:17.099878Z"
    }
   },
   "outputs": [],
   "source": [
    "input_size = [BATCH_SIZE,STATES_USED]  \n",
    "output_size = 192 #64*3"
   ]
  },
  {
   "cell_type": "code",
   "execution_count": 9,
   "id": "be3ba22d",
   "metadata": {
    "ExecuteTime": {
     "end_time": "2021-10-15T17:15:17.518892Z",
     "start_time": "2021-10-15T17:15:17.514876Z"
    }
   },
   "outputs": [],
   "source": [
    "f = open('obs_rms.pkl', 'rb')\n",
    "obs_rms = pickle.load(f)"
   ]
  },
  {
   "cell_type": "code",
   "execution_count": 10,
   "id": "e54e215c",
   "metadata": {
    "ExecuteTime": {
     "end_time": "2021-10-15T17:15:17.988705Z",
     "start_time": "2021-10-15T17:15:17.961680Z"
    }
   },
   "outputs": [],
   "source": [
    "agent = ICMAgent\n",
    "\n",
    "agent = agent(\n",
    "        input_size,\n",
    "        output_size,\n",
    "        num_worker,\n",
    "        num_step,\n",
    "        gamma,\n",
    "        lam=lam,\n",
    "        learning_rate=learning_rate,\n",
    "        ent_coef=entropy_coef,\n",
    "        clip_grad_norm=clip_grad_norm,\n",
    "        epoch=epoch,\n",
    "        batch_size=BATCH_SIZE,\n",
    "        ppo_eps=ppo_eps,\n",
    "        eta=eta,\n",
    "        use_cuda=False,\n",
    "        use_gae=False,\n",
    "        use_noisy_net=False\n",
    "    )"
   ]
  },
  {
   "cell_type": "code",
   "execution_count": 11,
   "id": "8ab87052",
   "metadata": {
    "ExecuteTime": {
     "end_time": "2021-10-15T17:15:18.397033Z",
     "start_time": "2021-10-15T17:15:18.393546Z"
    }
   },
   "outputs": [],
   "source": [
    "states = np.zeros([1, BATCH_SIZE, 1,STATES_USED])"
   ]
  },
  {
   "cell_type": "code",
   "execution_count": 12,
   "id": "0079e429",
   "metadata": {
    "ExecuteTime": {
     "end_time": "2021-10-15T17:15:18.859359Z",
     "start_time": "2021-10-15T17:15:18.842335Z"
    }
   },
   "outputs": [
    {
     "data": {
      "text/plain": [
       "<All keys matched successfully>"
      ]
     },
     "execution_count": 12,
     "metadata": {},
     "output_type": "execute_result"
    }
   ],
   "source": [
    "agent.model.load_state_dict(torch.load(model_path))\n",
    "agent.icm.load_state_dict(torch.load(icm_path))"
   ]
  },
  {
   "cell_type": "code",
   "execution_count": 13,
   "id": "af3543d2",
   "metadata": {
    "ExecuteTime": {
     "end_time": "2021-10-15T17:15:19.285795Z",
     "start_time": "2021-10-15T17:15:19.274231Z"
    }
   },
   "outputs": [],
   "source": [
    "Transition = namedtuple('Transition',\n",
    "                        ('state'))\n",
    "\n",
    "\n",
    "class ReplayMemory(object):\n",
    "\n",
    "    def __init__(self, capacity):\n",
    "        self.memory = deque([],maxlen=capacity)\n",
    "\n",
    "    def push(self, *args):\n",
    "        \"\"\"Save a transition\"\"\"\n",
    "        self.memory.append(Transition(*args))\n",
    "\n",
    "    def sample(self, batch_size:int=BATCH_SIZE):\n",
    "        return random.sample(self.memory, BATCH_SIZE)\n",
    "\n",
    "    def __len__(self):\n",
    "        return len(self.memory)"
   ]
  },
  {
   "cell_type": "code",
   "execution_count": 14,
   "id": "e98ff53c",
   "metadata": {
    "ExecuteTime": {
     "end_time": "2021-10-15T17:15:19.710804Z",
     "start_time": "2021-10-15T17:15:19.706285Z"
    }
   },
   "outputs": [],
   "source": [
    "history = ReplayMemory(HISTORY_SIZE)\n",
    "\n",
    "for i in range(HISTORY_SIZE):\n",
    "    history.push(np.zeros((STATES_USED, )))"
   ]
  },
  {
   "cell_type": "code",
   "execution_count": 15,
   "id": "2bb03a3c",
   "metadata": {
    "ExecuteTime": {
     "end_time": "2021-10-15T17:15:20.160287Z",
     "start_time": "2021-10-15T17:15:20.153521Z"
    }
   },
   "outputs": [],
   "source": [
    "def run(action,env:gym.envs,history:ReplayMemory):\n",
    "    s, reward, done, info = env.step([action//64, action%64])\n",
    "    # print(type(s), s.shape)\n",
    "    history.push(s.astype(np.float))\n",
    "    \n",
    "    return [np.array(history.sample(BATCH_SIZE)), reward, done, done, reward]"
   ]
  },
  {
   "cell_type": "code",
   "execution_count": 18,
   "id": "ffdca3af",
   "metadata": {
    "ExecuteTime": {
     "end_time": "2021-10-15T17:17:32.927841Z",
     "start_time": "2021-10-15T17:17:32.862422Z"
    }
   },
   "outputs": [],
   "source": [
    "def val(epi_val:list,gym_env_ind:list=None):\n",
    "    \n",
    "    with torch.no_grad():\n",
    "        \n",
    "        history = ReplayMemory(HISTORY_SIZE)\n",
    "        for i in range(HISTORY_SIZE):\n",
    "            history.push(np.zeros((STATES_USED, )))\n",
    "            \n",
    "        f = open('obs_rms.pkl', 'rb')\n",
    "        obs_rms = pickle.load(f)\n",
    "        \n",
    "        rall = 0\n",
    "        rd = False\n",
    "        intrinsic_reward_list = []\n",
    "        states = np.zeros([1, BATCH_SIZE, 1,STATES_USED])\n",
    "        \n",
    "        ovr_val = 0\n",
    "        for episode in tqdm.notebook.tqdm(range(epi_val[1]-epi_val[0]+1),desc='Val'):\n",
    "            if len(gym_env_ind) == 0:\n",
    "                env =  BeamSelectionEnv([episode,episode])\n",
    "            else:\n",
    "                env = copy.deepcopy(gym_env_ind[episode])\n",
    "                \n",
    "            rall=0\n",
    "            for steps in range(n_steps_epi_val[episode]):\n",
    "                \n",
    "                actions, value, policy = agent.get_action(\n",
    "                    (states - obs_rms.mean) / np.sqrt(obs_rms.var)\n",
    "                )\n",
    "                \n",
    "                next_states, rewards, dones, real_dones, log_rewards, next_obs = [], [], [],\\\n",
    "                    [], [], []\n",
    "                \n",
    "                for action in actions:\n",
    "                    s, r, d, rd, lr = run(action,env,history)\n",
    "                    rall += r\n",
    "                    next_states.append(s)\n",
    "                \n",
    "                next_states = np.stack(next_states)\n",
    "                states = next_states[:, :, :, :]\n",
    "                \n",
    "            print(f'Running avg for episode {epi_val[0]+episode} is {rall/steps}')\n",
    "            ovr_val +=rall\n",
    "        \n",
    "        print(f'Overall mean reward is {ovr_val/n_steps_val} ')"
   ]
  },
  {
   "cell_type": "code",
   "execution_count": null,
   "id": "8bae05fa",
   "metadata": {
    "ExecuteTime": {
     "start_time": "2021-10-15T17:17:44.584Z"
    }
   },
   "outputs": [
    {
     "data": {
      "application/vnd.jupyter.widget-view+json": {
       "model_id": "2f75f2a793dc447da712feab09e8866d",
       "version_major": 2,
       "version_minor": 0
      },
      "text/plain": [
       "Val:   0%|          | 0/1 [00:00<?, ?it/s]"
      ]
     },
     "metadata": {},
     "output_type": "display_data"
    }
   ],
   "source": [
    "val(epi_val,gym_env_ind_val)"
   ]
  }
 ],
 "metadata": {
  "kernelspec": {
   "display_name": "Python 3",
   "language": "python",
   "name": "python3"
  },
  "language_info": {
   "codemirror_mode": {
    "name": "ipython",
    "version": 3
   },
   "file_extension": ".py",
   "mimetype": "text/x-python",
   "name": "python",
   "nbconvert_exporter": "python",
   "pygments_lexer": "ipython3",
   "version": "3.6.13"
  },
  "toc": {
   "base_numbering": 1,
   "nav_menu": {},
   "number_sections": true,
   "sideBar": false,
   "skip_h1_title": false,
   "title_cell": "Table of Contents",
   "title_sidebar": "Contents",
   "toc_cell": false,
   "toc_position": {},
   "toc_section_display": true,
   "toc_window_display": false
  },
  "varInspector": {
   "cols": {
    "lenName": 16,
    "lenType": 16,
    "lenVar": 40
   },
   "kernels_config": {
    "python": {
     "delete_cmd_postfix": "",
     "delete_cmd_prefix": "del ",
     "library": "var_list.py",
     "varRefreshCmd": "print(var_dic_list())"
    },
    "r": {
     "delete_cmd_postfix": ") ",
     "delete_cmd_prefix": "rm(",
     "library": "var_list.r",
     "varRefreshCmd": "cat(var_dic_list()) "
    }
   },
   "types_to_exclude": [
    "module",
    "function",
    "builtin_function_or_method",
    "instance",
    "_Feature"
   ],
   "window_display": false
  }
 },
 "nbformat": 4,
 "nbformat_minor": 5
}
