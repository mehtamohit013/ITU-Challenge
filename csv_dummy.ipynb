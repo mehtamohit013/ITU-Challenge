{
 "cells": [
  {
   "cell_type": "code",
   "execution_count": 4,
   "source": [
    "import pandas as pd\n",
    "import os"
   ],
   "outputs": [],
   "metadata": {}
  },
  {
   "cell_type": "code",
   "execution_count": 5,
   "source": [
    "HOME = os.environ['HOME']\n",
    "oracle = '/home/mohit/ITU-Challenge/ITU-Challenge/data/beamoracle'\n",
    "dummy = '/home/mohit/ITU-Challenge/ITU-Challenge/data/dummy'"
   ],
   "outputs": [],
   "metadata": {}
  },
  {
   "cell_type": "code",
   "execution_count": 6,
   "source": [
    "df1 = pd.read_csv(oracle+'/output_b_beam_oracle_ep500.csv')"
   ],
   "outputs": [],
   "metadata": {}
  },
  {
   "cell_type": "code",
   "execution_count": 9,
   "source": [
    "sum(df1['reward'])"
   ],
   "outputs": [
    {
     "output_type": "execute_result",
     "data": {
      "text/plain": [
       "1127.3677197525806"
      ]
     },
     "metadata": {},
     "execution_count": 9
    }
   ],
   "metadata": {}
  },
  {
   "cell_type": "code",
   "execution_count": 12,
   "source": [
    "sum_ep = 0\n",
    "cnt = 0\n",
    "for i in os.listdir(oracle):\n",
    "    try:\n",
    "        fl = os.path.join(oracle,i)\n",
    "        df = pd.read_csv(fl)\n",
    "        cnt+=len(df)\n",
    "        sum_ep += sum(df['reward'])\n",
    "    except:\n",
    "        print(i)\n",
    "        break\n",
    "\n",
    "print(sum_ep,sum_ep/cnt)"
   ],
   "outputs": [
    {
     "output_type": "stream",
     "name": "stdout",
     "text": [
      "23945.777813802175 0.019925739869409032\n"
     ]
    }
   ],
   "metadata": {}
  },
  {
   "cell_type": "code",
   "execution_count": 14,
   "source": [
    "sum_ep = 0\n",
    "cnt = 0\n",
    "for i in os.listdir(dummy):\n",
    "    try:\n",
    "        fl = os.path.join(dummy,i)\n",
    "        df = pd.read_csv(fl)\n",
    "        cnt+=len(df)\n",
    "        sum_ep += sum(df['reward'])\n",
    "    except:\n",
    "        print(i)\n",
    "        break\n",
    "\n",
    "print(sum_ep,sum_ep/cnt)"
   ],
   "outputs": [
    {
     "output_type": "stream",
     "name": "stdout",
     "text": [
      "-179276.05188428628 -0.1491790328314986\n"
     ]
    }
   ],
   "metadata": {}
  }
 ],
 "metadata": {
  "orig_nbformat": 4,
  "language_info": {
   "name": "python",
   "version": "3.6.13",
   "mimetype": "text/x-python",
   "codemirror_mode": {
    "name": "ipython",
    "version": 3
   },
   "pygments_lexer": "ipython3",
   "nbconvert_exporter": "python",
   "file_extension": ".py"
  },
  "kernelspec": {
   "name": "python3",
   "display_name": "Python 3.6.13 64-bit ('ITU': conda)"
  },
  "interpreter": {
   "hash": "704f8173b5278a07e1dad217082faca02c99b0dff81b24cc095b855fb1648990"
  }
 },
 "nbformat": 4,
 "nbformat_minor": 2
}