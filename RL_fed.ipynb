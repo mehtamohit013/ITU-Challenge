{
 "cells": [
  {
   "cell_type": "code",
   "execution_count": 1,
   "source": [
    "# {'pkts_dropped': 0.0,\n",
    "#  'pkts_transmitted': 75.0,\n",
    "#  'timestamp': '1626810037874447104',\n",
    "#  'obj': 'simulation_pedestrian1',\n",
    "#  'pos_x': '11.417197',\n",
    "#  'pos_y': '37.027515',\n",
    "#  'pos_z': '7.4369965',\n",
    "#  'orien_x': '-0.0',\n",
    "#  'orien_y': '0.0',\n",
    "#  'orien_z': '0.9999752',\n",
    "#  'orien_w': '0.0070461035',\n",
    "#  'linear_acc_x': '',\n",
    "#  'linear_acc_y': '',\n",
    "#  'linear_acc_z': '',\n",
    "#  'linear_vel_x': '',\n",
    "#  'linear_vel_y': '',\n",
    "#  'linear_vel_z': '',\n",
    "#  'angular_acc_x': '',\n",
    "#  'angular_acc_y': '',\n",
    "#  'angular_acc_z': '',\n",
    "#  'angular_vel_x': '',\n",
    "#  'angular_vel_y': '',\n",
    "#  'angular_vel_z': '',\n",
    "#  'pkts_buffered': 0.0,\n",
    "#  'bit_rate': 4949598.859792932,\n",
    "#  'chosen_ue': 'simulation_pedestrian1',\n",
    "#  'packets': 14627.0,\n",
    "#  'channel_mag': array(0.00890296)}"
   ],
   "outputs": [],
   "metadata": {}
  },
  {
   "cell_type": "code",
   "execution_count": 2,
   "source": [
    "import torch\n",
    "import torch.nn as nn\n",
    "import torch.optim as optim\n",
    "import torch.nn.functional as F\n",
    "from torch.utils.tensorboard import SummaryWriter\n",
    "\n",
    "import tqdm\n",
    "\n",
    "import math\n",
    "import random\n",
    "import numpy as np\n",
    "import matplotlib\n",
    "import matplotlib.pyplot as plt\n",
    "from collections import namedtuple, deque\n",
    "from itertools import count\n",
    "import copy\n",
    "import multiprocessing as mp\n",
    "\n",
    "import gym\n",
    "\n",
    "# set up matplotlib\n",
    "is_ipython = 'inline' in matplotlib.get_backend()\n",
    "if is_ipython:\n",
    "    from IPython import display\n",
    "\n",
    "plt.ion()"
   ],
   "outputs": [],
   "metadata": {}
  },
  {
   "cell_type": "code",
   "execution_count": 3,
   "source": [
    "device = torch.device(\"cpu\")"
   ],
   "outputs": [],
   "metadata": {}
  },
  {
   "cell_type": "markdown",
   "source": [
    "## Gym Environment"
   ],
   "metadata": {}
  },
  {
   "cell_type": "code",
   "execution_count": 4,
   "source": [
    "import caviar_tools\n",
    "from beamselect_env import BeamSelectionEnv"
   ],
   "outputs": [],
   "metadata": {}
  },
  {
   "cell_type": "markdown",
   "source": [
    "### Hyper Params"
   ],
   "metadata": {}
  },
  {
   "cell_type": "code",
   "execution_count": 5,
   "source": [
    "reward_type = 'train'    # 'test' or 'train'\n",
    "epi = [0,10] #[start,end] \n",
    "epi_val = [500,549]\n",
    "\n",
    "gym_env_ind = list()\n",
    "for i in range(epi[0],epi[1]+1):\n",
    "    gym_env_ind.append(BeamSelectionEnv([i,i],reward_type))\n",
    "\n",
    "gym_env_val = BeamSelectionEnv(epi_val)"
   ],
   "outputs": [
    {
     "output_type": "stream",
     "name": "stderr",
     "text": [
      "/home/mohit/anaconda3/envs/ITU/lib/python3.6/site-packages/gym/logger.py:30: UserWarning: \u001b[33mWARN: Box bound precision lowered by casting to float32\u001b[0m\n",
      "  warnings.warn(colorize('%s: %s'%('WARN', msg % args), 'yellow'))\n"
     ]
    }
   ],
   "metadata": {}
  },
  {
   "cell_type": "code",
   "execution_count": 6,
   "source": [
    "n_steps_epi = list()\n",
    "for i in range(epi[0],epi[1]+1):\n",
    "    n_steps_epi.append(caviar_tools.linecount([i,i]))\n",
    "\n",
    "n_steps = sum(n_steps_epi)\n",
    "n_steps_val = caviar_tools.linecount(epi_val)"
   ],
   "outputs": [],
   "metadata": {}
  },
  {
   "cell_type": "code",
   "execution_count": 7,
   "source": [
    "# chan_mag = []\n",
    "# pckts = []\n",
    "# for i in tqdm.tqdm_notebook(range(n_steps)):\n",
    "#     next_state, _, _, _ = gym_env.step([np.random.randint(0,3), np.random.randint(0, 64)])\n",
    "#     pckts.append(next_state[7])\n",
    "#     chan_mag.append(next_state[8])"
   ],
   "outputs": [],
   "metadata": {}
  },
  {
   "cell_type": "code",
   "execution_count": 8,
   "source": [
    "# print(max(np.array(pckts).astype('float')), min(np.array(pckts).astype('float')))\n",
    "# print(max(np.array(chan_mag).astype('float')), min(np.array(chan_mag).astype('float')))"
   ],
   "outputs": [],
   "metadata": {}
  },
  {
   "cell_type": "markdown",
   "source": [
    "Observation Space : X,Y,Z,pkts_dropped,pkts_transmitted,pkts_buffered,bit_rate\n",
    "\n",
    "Action Space : [3,64] -> [UE,Possible beams]"
   ],
   "metadata": {}
  },
  {
   "cell_type": "markdown",
   "source": [
    "## Replay Memory"
   ],
   "metadata": {}
  },
  {
   "cell_type": "code",
   "execution_count": 9,
   "source": [
    "Transition = namedtuple('Transition',\n",
    "                        ('state', 'action', 'next_state', 'reward'))\n",
    "\n",
    "\n",
    "class ReplayMemory(object):\n",
    "\n",
    "    def __init__(self, capacity):\n",
    "        self.memory = deque([],maxlen=capacity)\n",
    "\n",
    "    def push(self, *args):\n",
    "        \"\"\"Save a transition\"\"\"\n",
    "        self.memory.append(Transition(*args))\n",
    "\n",
    "    def sample(self, batch_size):\n",
    "        return random.sample(self.memory, batch_size)\n",
    "\n",
    "    def __len__(self):\n",
    "        return len(self.memory)"
   ],
   "outputs": [],
   "metadata": {}
  },
  {
   "cell_type": "markdown",
   "source": [
    "## DQN"
   ],
   "metadata": {}
  },
  {
   "cell_type": "code",
   "execution_count": 10,
   "source": [
    "class DQN(nn.Module):\n",
    "\n",
    "    def __init__(self, inputs:int=7, outputs:int=64*3):\n",
    "        super().__init__()\n",
    "\n",
    "        self.linear = nn.Sequential(\n",
    "            self.create_linear(inputs,16),\n",
    "            self.create_linear(16, 32),\n",
    "            self.create_linear(32,64),\n",
    "            self.create_linear(64,256)\n",
    "        )\n",
    "\n",
    "        self.value_linear = self.create_linear(256,1)\n",
    "        self.action_linear = self.create_linear(256,outputs)\n",
    "\n",
    "    \n",
    "    def create_linear(self,inp:int,out:int)-> nn.Module:\n",
    "        return nn.Sequential(\n",
    "            nn.Linear(inp,out),\n",
    "            nn.ELU()\n",
    "            # nn.BatchNorm1d(out)\n",
    "        )\n",
    "    \n",
    "    def forward(self, x):\n",
    "        x = x.to(device)\n",
    "        x = self.linear(x)\n",
    "\n",
    "        value = self.value_linear(x)\n",
    "        adv = self.action_linear(x)\n",
    "\n",
    "\n",
    "        advAverage = torch.mean(adv, dim=1, keepdim=True)\n",
    "        \n",
    "        out = value + adv - advAverage\n",
    "        return out\n",
    "\n",
    "        "
   ],
   "outputs": [],
   "metadata": {}
  },
  {
   "cell_type": "markdown",
   "source": [
    "## Hyperparams"
   ],
   "metadata": {}
  },
  {
   "cell_type": "code",
   "execution_count": 11,
   "source": [
    "BATCH_SIZE = 128\n",
    "GAMMA = 0.99\n",
    "\n",
    "EPS_START = 0.9\n",
    "EPS_END = 0.3\n",
    "\n",
    "# It depends on overall number of steps, basic intitution is that\n",
    "# once steps_done == EPS_DECAY then the probablity of choosing \n",
    "# random action is 33%; considering EPS_END is zero\n",
    "# As for ep = [0,10]; approx ep is 80k therefore exploration can be reduced to 33% around 50k\n",
    "# Also because of this factor smoothed accuracy matters more for training then seeing the average\n",
    "# EPS_DECAY = n_steps*0.3\n",
    "\n",
    "TARGET_UPDATE = 1000\n",
    "VAL_STEP = 100000\n",
    "Replay = 10000\n",
    "\n",
    "EPOCH = 1\n",
    "SUB_EPOCH = 2"
   ],
   "outputs": [],
   "metadata": {}
  },
  {
   "cell_type": "markdown",
   "source": [
    "## Action"
   ],
   "metadata": {}
  },
  {
   "cell_type": "code",
   "execution_count": 12,
   "source": [
    "policy_net = DQN(13, 192).to(device)\n",
    "target_net = DQN(13, 192).to(device)\n",
    "target_net.load_state_dict(policy_net.state_dict())\n",
    "target_net.eval()\n",
    "\n",
    "optimizer = optim.Adam(policy_net.parameters())\n",
    "# memory = ReplayMemory(10000)\n",
    "\n",
    "n_actions = 64*3\n",
    "steps_done = 0\n",
    "\n",
    "def select_action(state,steps_done:int=0,EPS_DECAY:int=1,val:bool=False):\n",
    "    if val:\n",
    "        with torch.no_grad():\n",
    "            # t.max(1) will return largest column value of each row.\n",
    "            # second column on max result is index of where max element was\n",
    "            # found, so we pick action with the larger expected reward.\n",
    "            flattened_action = policy_net(state).max(dim = 1).indices\n",
    "            return torch.tensor([[flattened_action]], device=device, dtype=torch.long)\n",
    "    else:\n",
    "        sample = random.random()\n",
    "        eps_threshold = EPS_END + (EPS_START - EPS_END) * \\\n",
    "            math.exp(-1. * steps_done / EPS_DECAY)\n",
    "        if sample > eps_threshold:\n",
    "            with torch.no_grad():\n",
    "                # t.max(1) will return largest column value of each row.\n",
    "                # second column on max result is index of where max element was\n",
    "                # found, so we pick action with the larger expected reward.\n",
    "                flattened_action = policy_net(state).max(dim = 1).indices\n",
    "                return torch.tensor([[flattened_action]], device=device, dtype=torch.long)\n",
    "        else:\n",
    "            flattened_action = random.randrange(n_actions)\n",
    "            return torch.tensor([[flattened_action]], device=device, dtype=torch.long)\n"
   ],
   "outputs": [],
   "metadata": {}
  },
  {
   "cell_type": "markdown",
   "source": [
    "## Optimize Model"
   ],
   "metadata": {}
  },
  {
   "cell_type": "code",
   "execution_count": 13,
   "source": [
    "def optimize_model(memory:ReplayMemory):\n",
    "    if len(memory) < BATCH_SIZE:\n",
    "        return\n",
    "    transitions = memory.sample(BATCH_SIZE)\n",
    "    # Transpose the batch (see https://stackoverflow.com/a/19343/3343043 for\n",
    "    # detailed explanation). This converts batch-array of Transitions\n",
    "    # to Transition of batch-arrays.\n",
    "    batch = Transition(*zip(*transitions))\n",
    "\n",
    "    # Compute a mask of non-final states and concatenate the batch elements\n",
    "    # (a final state would've been the one after which simulation ended)\n",
    "    non_final_mask = torch.tensor(tuple(map(lambda s: s is not None,\n",
    "                                          batch.next_state)), device=device, dtype=torch.bool)\n",
    "    non_final_next_states = torch.cat([s for s in batch.next_state\n",
    "                                                if s is not None])\n",
    "    state_batch = torch.cat(batch.state)\n",
    "    action_batch = torch.cat(batch.action)\n",
    "    reward_batch = torch.cat(batch.reward)\n",
    "\n",
    "    # Compute Q(s_t, a) - the model computes Q(s_t), then we select the\n",
    "    # columns of actions taken. These are the actions which would've been taken\n",
    "    # for each batch state according to policy_net\n",
    "    state_action_values = policy_net(state_batch).gather(1, action_batch)\n",
    "\n",
    "    # Compute V(s_{t+1}) for all next states.\n",
    "    # Expected values of actions for non_final_next_states are computed based\n",
    "    # on the \"older\" target_net; selecting their best reward with max(1)[0].\n",
    "    # This is merged based on the mask, such that we'll have either the expected\n",
    "    # state value or 0 in case the state was final.\n",
    "    next_state_values = torch.zeros(BATCH_SIZE, device=device)\n",
    "    next_state_values[non_final_mask] = target_net(non_final_next_states).max(1)[0].detach()\n",
    "    # Compute the expected Q values\n",
    "    expected_state_action_values = (next_state_values * GAMMA) + reward_batch\n",
    "    # Compute Huber loss\n",
    "    criterion = nn.SmoothL1Loss()\n",
    "    loss = criterion(state_action_values, expected_state_action_values.unsqueeze(1))\n",
    "\n",
    "    # Optimize the model\n",
    "    optimizer.zero_grad()\n",
    "    loss.backward()\n",
    "    for param in policy_net.parameters():\n",
    "        param.grad.data.clamp_(-1, 1)\n",
    "    optimizer.step()"
   ],
   "outputs": [],
   "metadata": {}
  },
  {
   "cell_type": "markdown",
   "source": [
    "## Training loop"
   ],
   "metadata": {}
  },
  {
   "cell_type": "code",
   "execution_count": 14,
   "source": [
    "# Tensorboard\n",
    "log_dir = './rough_logs/' \n",
    "\n",
    "writer = SummaryWriter(log_dir=log_dir)"
   ],
   "outputs": [],
   "metadata": {}
  },
  {
   "cell_type": "code",
   "execution_count": 15,
   "source": [
    "def val(train_step:int,gym_env_val:gym.Env,n_steps_val:int=n_steps_val,\n",
    "        writer:SummaryWriter=writer):\n",
    "\n",
    "    state = torch.zeros((1,13), dtype=torch.float32)\n",
    "    ovr_reward = 0\n",
    "    for i_episode in tqdm.tqdm_notebook(range(n_steps_val),desc='Validation'):\n",
    "        # Select and perform an action\n",
    "        action = select_action(state,val=True)\n",
    "        # Observe new state\n",
    "        next_state, reward, done, info = gym_env_val.step([action.item()//64, action.item()%64])\n",
    "\n",
    "\n",
    "        ovr_reward+=reward.item()\n",
    "\n",
    "        next_state = next_state.astype(np.float32).reshape(1, next_state.shape[0])\n",
    "        next_state = torch.tensor(next_state)\n",
    "        reward = torch.tensor([reward], device=device).float()\n",
    "\n",
    "        # Move to the next state\n",
    "        state = next_state\n",
    "        \n",
    "    writer.add_scalar('Val Overall Reward',ovr_reward,train_step)\n",
    "    writer.add_scalar('Val Average Rewad',(ovr_reward/n_steps_val),train_step)\n",
    "\n",
    "    print(f'Validation Overall reward = {ovr_reward:.2f}. ' \\\n",
    "        f' Validation Average Reward = {ovr_reward/n_steps_val:.4f}')\n",
    "    gym_env_val.close()\n",
    "    "
   ],
   "outputs": [],
   "metadata": {}
  },
  {
   "cell_type": "code",
   "execution_count": 18,
   "source": [
    "# Initialize the environment and state\n",
    "cnt = 0\n",
    "# gym_env_cp = copy.deepcopy(gym_env)\n",
    "# val(0,copy.deepcopy(gym_env_val))\n",
    "for i in tqdm.tqdm_notebook(range(0,EPOCH),desc='Epoch'):\n",
    "    \n",
    "    steps_done = 0\n",
    "\n",
    "    # gym_env = copy.deepcopy(gym_env_cp)\n",
    "    state = torch.zeros((1,13), dtype=torch.float32)\n",
    "    ovr_reward = 0\n",
    "\n",
    "    for episode in tqdm.tqdm_notebook(range((epi[1]-epi[0]+1)),desc='Episodes'):\n",
    "        sub_reward = 0\n",
    "        for s_epoc in tqdm.tqdm_notebook(range(0,SUB_EPOCH),desc='Sub Epoch'):\n",
    "            gym_env = copy.deepcopy(gym_env_ind[episode])\n",
    "            memory = ReplayMemory(Replay)\n",
    "            state = torch.zeros((1,13), dtype=torch.float32)\n",
    "            train_reward = 0\n",
    "            steps_done = 0\n",
    "            EPS_DECAY = n_steps_epi[episode]*0.3\n",
    "            TARGET_UPDATE = 100\n",
    "            for env_step in tqdm.tqdm_notebook(range(n_steps_epi[episode]),desc='Train'):\n",
    "                action = select_action(state,steps_done,EPS_DECAY)\n",
    "                steps_done+=1\n",
    "\n",
    "                next_state, reward, done, info = gym_env.step([action.item()//64, action.item()%64])\n",
    "                train_reward += reward.item()\n",
    "\n",
    "                next_state = next_state.astype(np.float32).reshape(1, next_state.shape[0])\n",
    "                next_state = torch.tensor(next_state)\n",
    "                reward = torch.tensor([reward], device=device).float()\n",
    "\n",
    "                memory.push(state, action, next_state, reward)\n",
    "\n",
    "                # Move to the next state\n",
    "                state = next_state\n",
    "\n",
    "                # Perform one step of the optimization (on the policy network)\n",
    "                optimize_model(memory)\n",
    "                \n",
    "                # Update the target network, copying all weights and biases in DQN\n",
    "                if env_step % TARGET_UPDATE == 0:\n",
    "                    target_net.load_state_dict(policy_net.state_dict())\n",
    "            \n",
    "            print(f'Train reward after {s_epoc+1} epoch for episode {episode} is {train_reward}')\n",
    "            gym_env.close()\n",
    "\n",
    "            sub_reward+=train_reward\n",
    "\n",
    "        print(f'Average reward for sub epoch for episode {episode} is {sub_reward/SUB_EPOCH}')\n",
    "        val(i*20+episode+1, copy.deepcopy(gym_env_val))\n",
    "                \n",
    "\n",
    "#     for i_episode in tqdm.tqdm_notebook(range(n_steps),desc='Train'):\n",
    "#         # Select and perform an action\n",
    "#         action = select_action(state,steps_done)\n",
    "#         steps_done+=1\n",
    "#         # Observe new state\n",
    "#         next_state, reward, done, info = gym_env.step([action.item()//64, action.item()%64])\n",
    "\n",
    "\n",
    "#         ovr_reward+=reward.item()\n",
    "\n",
    "#         next_state = next_state.astype(np.float32).reshape(1, next_state.shape[0])\n",
    "#         next_state = torch.tensor(next_state)\n",
    "#         reward = torch.tensor([reward], device=device).float()\n",
    "\n",
    "#         writer.add_scalar('episode_reward',reward,cnt)\n",
    "\n",
    "#         # print(next_state)\n",
    "#         # print(state)\n",
    "#         # Store the transition in memory\n",
    "#         memory.push(state, action, next_state, reward)\n",
    "\n",
    "#         # Move to the next state\n",
    "#         state = next_state\n",
    "\n",
    "#         # Perform one step of the optimization (on the policy network)\n",
    "#         optimize_model()\n",
    "        \n",
    "#         # Update the target network, copying all weights and biases in DQN\n",
    "#         if i_episode % TARGET_UPDATE == 0:\n",
    "#             target_net.load_state_dict(policy_net.state_dict())\n",
    "\n",
    "#         if (i_episode) == 0:\n",
    "#             val(cnt, copy.deepcopy(gym_env_val))\n",
    "#         cnt+=1\n",
    "        \n",
    "#     print(f'Overall Train reward after epoch {i} = {ovr_reward:.2f}. ' \\\n",
    "#         f'Average Reward = {ovr_reward/n_steps:.4f}')\n",
    "#     gym_env.close()\n",
    "\n",
    "# writer.add_hparams(\n",
    "#         {'BATCH_SIZE' : BATCH_SIZE,\n",
    "#         'GAMMA' : GAMMA,\n",
    "#         'EPS_START' : EPS_START,\n",
    "#         'EPS_END' : EPS_END,\n",
    "#         'EPS_DECAY' : EPS_DECAY,\n",
    "#         'TARGET_UPDATE' :TARGET_UPDATE},\n",
    "#         {\n",
    "#             'Overall Reward':ovr_reward,\n",
    "#             'Average Reward': ovr_reward/n_steps\n",
    "#         }\n",
    "#     )\n",
    "# gym_env_cp.close()\n",
    "\n",
    "# val(cnt, copy.deepcopy(gym_env_val))"
   ],
   "outputs": [
    {
     "output_type": "stream",
     "name": "stderr",
     "text": [
      "ipykernel_launcher:13: TqdmDeprecationWarning: This function will be removed in tqdm==5.0.0\n",
      "Please use `tqdm.notebook.tqdm` instead of `tqdm.tqdm_notebook`\n"
     ]
    },
    {
     "output_type": "display_data",
     "data": {
      "application/vnd.jupyter.widget-view+json": {
       "version_major": 2,
       "version_minor": 0,
       "model_id": "0a2899f786d8402dab9e7d7ccd0586e8"
      },
      "text/plain": [
       "Episodes:   0%|          | 0/11 [00:00<?, ?it/s]"
      ]
     },
     "metadata": {}
    },
    {
     "output_type": "stream",
     "name": "stderr",
     "text": [
      "ipykernel_launcher:15: TqdmDeprecationWarning: This function will be removed in tqdm==5.0.0\n",
      "Please use `tqdm.notebook.tqdm` instead of `tqdm.tqdm_notebook`\n"
     ]
    },
    {
     "output_type": "display_data",
     "data": {
      "application/vnd.jupyter.widget-view+json": {
       "version_major": 2,
       "version_minor": 0,
       "model_id": "e6813ffe809a4de187d1742a196c76c1"
      },
      "text/plain": [
       "Sub Epoch:   0%|          | 0/10 [00:00<?, ?it/s]"
      ]
     },
     "metadata": {}
    },
    {
     "output_type": "stream",
     "name": "stderr",
     "text": [
      "ipykernel_launcher:23: TqdmDeprecationWarning: This function will be removed in tqdm==5.0.0\n",
      "Please use `tqdm.notebook.tqdm` instead of `tqdm.tqdm_notebook`\n"
     ]
    },
    {
     "output_type": "display_data",
     "data": {
      "application/vnd.jupyter.widget-view+json": {
       "version_major": 2,
       "version_minor": 0,
       "model_id": "ebebbef9ef024a5bbed0a0f7f2d868fa"
      },
      "text/plain": [
       "Train:   0%|          | 0/5344 [00:00<?, ?it/s]"
      ]
     },
     "metadata": {}
    },
    {
     "output_type": "stream",
     "name": "stdout",
     "text": [
      "Train reward after a 0 for episode 0 is -28785.744815617352\n"
     ]
    },
    {
     "output_type": "display_data",
     "data": {
      "application/vnd.jupyter.widget-view+json": {
       "version_major": 2,
       "version_minor": 0,
       "model_id": "242075922b44470cb3c80ec2e29abf50"
      },
      "text/plain": [
       "Train:   0%|          | 0/5344 [00:00<?, ?it/s]"
      ]
     },
     "metadata": {}
    },
    {
     "output_type": "stream",
     "name": "stdout",
     "text": [
      "Train reward after a 1 for episode 0 is -28874.079305837524\n"
     ]
    },
    {
     "output_type": "display_data",
     "data": {
      "application/vnd.jupyter.widget-view+json": {
       "version_major": 2,
       "version_minor": 0,
       "model_id": "9d5f86ef893b4ef2a037a259e39c546d"
      },
      "text/plain": [
       "Train:   0%|          | 0/5344 [00:00<?, ?it/s]"
      ]
     },
     "metadata": {}
    },
    {
     "output_type": "stream",
     "name": "stdout",
     "text": [
      "Train reward after a 2 for episode 0 is -29290.45436839409\n"
     ]
    },
    {
     "output_type": "display_data",
     "data": {
      "application/vnd.jupyter.widget-view+json": {
       "version_major": 2,
       "version_minor": 0,
       "model_id": "de55d37e35a24d399731a962a1f56ecb"
      },
      "text/plain": [
       "Train:   0%|          | 0/5344 [00:00<?, ?it/s]"
      ]
     },
     "metadata": {}
    },
    {
     "output_type": "stream",
     "name": "stdout",
     "text": [
      "Train reward after a 3 for episode 0 is -28930.998447451864\n"
     ]
    },
    {
     "output_type": "display_data",
     "data": {
      "application/vnd.jupyter.widget-view+json": {
       "version_major": 2,
       "version_minor": 0,
       "model_id": "232c95003f56402785c525fbfbce339c"
      },
      "text/plain": [
       "Train:   0%|          | 0/5344 [00:00<?, ?it/s]"
      ]
     },
     "metadata": {}
    },
    {
     "output_type": "stream",
     "name": "stdout",
     "text": [
      "Train reward after a 4 for episode 0 is -29115.96536773117\n"
     ]
    },
    {
     "output_type": "display_data",
     "data": {
      "application/vnd.jupyter.widget-view+json": {
       "version_major": 2,
       "version_minor": 0,
       "model_id": "e9e579b9387a448a9c73904f1fd5a117"
      },
      "text/plain": [
       "Train:   0%|          | 0/5344 [00:00<?, ?it/s]"
      ]
     },
     "metadata": {}
    },
    {
     "output_type": "stream",
     "name": "stdout",
     "text": [
      "Train reward after a 5 for episode 0 is -28955.028876374592\n"
     ]
    },
    {
     "output_type": "display_data",
     "data": {
      "application/vnd.jupyter.widget-view+json": {
       "version_major": 2,
       "version_minor": 0,
       "model_id": "1d8d7040cd8e4807b689623e0cae6c36"
      },
      "text/plain": [
       "Train:   0%|          | 0/5344 [00:00<?, ?it/s]"
      ]
     },
     "metadata": {}
    },
    {
     "output_type": "stream",
     "name": "stdout",
     "text": [
      "Train reward after a 6 for episode 0 is -29007.78290126482\n"
     ]
    },
    {
     "output_type": "display_data",
     "data": {
      "application/vnd.jupyter.widget-view+json": {
       "version_major": 2,
       "version_minor": 0,
       "model_id": "3b1eac48b1764f96bc53b3e852751f7a"
      },
      "text/plain": [
       "Train:   0%|          | 0/5344 [00:00<?, ?it/s]"
      ]
     },
     "metadata": {}
    },
    {
     "output_type": "stream",
     "name": "stdout",
     "text": [
      "Train reward after a 7 for episode 0 is -29119.504157199623\n"
     ]
    },
    {
     "output_type": "display_data",
     "data": {
      "application/vnd.jupyter.widget-view+json": {
       "version_major": 2,
       "version_minor": 0,
       "model_id": "d9f7593a68894d20b9fd928ebd04826c"
      },
      "text/plain": [
       "Train:   0%|          | 0/5344 [00:00<?, ?it/s]"
      ]
     },
     "metadata": {}
    },
    {
     "output_type": "stream",
     "name": "stdout",
     "text": [
      "Train reward after a 8 for episode 0 is -29224.682647862002\n"
     ]
    },
    {
     "output_type": "display_data",
     "data": {
      "application/vnd.jupyter.widget-view+json": {
       "version_major": 2,
       "version_minor": 0,
       "model_id": "9f2420c56fff4b30aee252652c61643e"
      },
      "text/plain": [
       "Train:   0%|          | 0/5344 [00:00<?, ?it/s]"
      ]
     },
     "metadata": {}
    },
    {
     "output_type": "stream",
     "name": "stdout",
     "text": [
      "Train reward after a 9 for episode 0 is -28986.97761362925\n",
      "Average reward for sub epoch for episode 0 is -290291.21850136225\n"
     ]
    },
    {
     "output_type": "stream",
     "name": "stderr",
     "text": [
      "ipykernel_launcher:6: TqdmDeprecationWarning: This function will be removed in tqdm==5.0.0\n",
      "Please use `tqdm.notebook.tqdm` instead of `tqdm.tqdm_notebook`\n"
     ]
    },
    {
     "output_type": "display_data",
     "data": {
      "application/vnd.jupyter.widget-view+json": {
       "version_major": 2,
       "version_minor": 0,
       "model_id": "41cd4f10bc3e4ecb8bc7c0e03c4effa9"
      },
      "text/plain": [
       "Validation:   0%|          | 0/306431 [00:00<?, ?it/s]"
      ]
     },
     "metadata": {}
    },
    {
     "output_type": "stream",
     "name": "stdout",
     "text": [
      "Validation Overall reward = -49024.98.  Validation Average Reward = -0.1600\n"
     ]
    },
    {
     "output_type": "display_data",
     "data": {
      "application/vnd.jupyter.widget-view+json": {
       "version_major": 2,
       "version_minor": 0,
       "model_id": "263d7d96bb3a4e8081769adf595ffd2c"
      },
      "text/plain": [
       "Sub Epoch:   0%|          | 0/10 [00:00<?, ?it/s]"
      ]
     },
     "metadata": {}
    },
    {
     "output_type": "display_data",
     "data": {
      "application/vnd.jupyter.widget-view+json": {
       "version_major": 2,
       "version_minor": 0,
       "model_id": "5cdf10520ac34cc0adbdf2a67ea2e979"
      },
      "text/plain": [
       "Train:   0%|          | 0/6021 [00:00<?, ?it/s]"
      ]
     },
     "metadata": {}
    },
    {
     "output_type": "stream",
     "name": "stdout",
     "text": [
      "Train reward after a 0 for episode 1 is -41929.74058611125\n"
     ]
    },
    {
     "output_type": "display_data",
     "data": {
      "application/vnd.jupyter.widget-view+json": {
       "version_major": 2,
       "version_minor": 0,
       "model_id": "b6b069542b994d25af91d31a990f2c09"
      },
      "text/plain": [
       "Train:   0%|          | 0/6021 [00:00<?, ?it/s]"
      ]
     },
     "metadata": {}
    },
    {
     "output_type": "stream",
     "name": "stdout",
     "text": [
      "Train reward after a 1 for episode 1 is -41541.419736392265\n"
     ]
    },
    {
     "output_type": "display_data",
     "data": {
      "application/vnd.jupyter.widget-view+json": {
       "version_major": 2,
       "version_minor": 0,
       "model_id": "051419aa89044540a52876b550d0e5f5"
      },
      "text/plain": [
       "Train:   0%|          | 0/6021 [00:00<?, ?it/s]"
      ]
     },
     "metadata": {}
    },
    {
     "output_type": "stream",
     "name": "stdout",
     "text": [
      "Train reward after a 2 for episode 1 is -41670.397993085775\n"
     ]
    },
    {
     "output_type": "display_data",
     "data": {
      "application/vnd.jupyter.widget-view+json": {
       "version_major": 2,
       "version_minor": 0,
       "model_id": "a29e6384fa83421fbc36e6cffc57c213"
      },
      "text/plain": [
       "Train:   0%|          | 0/6021 [00:00<?, ?it/s]"
      ]
     },
     "metadata": {}
    },
    {
     "output_type": "stream",
     "name": "stdout",
     "text": [
      "Train reward after a 3 for episode 1 is -41944.26797173537\n"
     ]
    },
    {
     "output_type": "display_data",
     "data": {
      "application/vnd.jupyter.widget-view+json": {
       "version_major": 2,
       "version_minor": 0,
       "model_id": "9d42bef5a04e4a9a8f1c198a3d35a1d8"
      },
      "text/plain": [
       "Train:   0%|          | 0/6021 [00:00<?, ?it/s]"
      ]
     },
     "metadata": {}
    },
    {
     "output_type": "stream",
     "name": "stdout",
     "text": [
      "Train reward after a 4 for episode 1 is -42030.10314127195\n"
     ]
    },
    {
     "output_type": "display_data",
     "data": {
      "application/vnd.jupyter.widget-view+json": {
       "version_major": 2,
       "version_minor": 0,
       "model_id": "fac2dbde7c1d415d9281a5156148a766"
      },
      "text/plain": [
       "Train:   0%|          | 0/6021 [00:00<?, ?it/s]"
      ]
     },
     "metadata": {}
    },
    {
     "output_type": "stream",
     "name": "stdout",
     "text": [
      "Train reward after a 5 for episode 1 is -41733.460018821446\n"
     ]
    },
    {
     "output_type": "display_data",
     "data": {
      "application/vnd.jupyter.widget-view+json": {
       "version_major": 2,
       "version_minor": 0,
       "model_id": "15bf3dd409c148abba9120cd2ce87a09"
      },
      "text/plain": [
       "Train:   0%|          | 0/6021 [00:00<?, ?it/s]"
      ]
     },
     "metadata": {}
    },
    {
     "output_type": "stream",
     "name": "stdout",
     "text": [
      "Train reward after a 6 for episode 1 is -41982.026695044275\n"
     ]
    },
    {
     "output_type": "display_data",
     "data": {
      "application/vnd.jupyter.widget-view+json": {
       "version_major": 2,
       "version_minor": 0,
       "model_id": "aec67da961d34615bcee71a64115eedf"
      },
      "text/plain": [
       "Train:   0%|          | 0/6021 [00:00<?, ?it/s]"
      ]
     },
     "metadata": {}
    },
    {
     "output_type": "stream",
     "name": "stdout",
     "text": [
      "Train reward after a 7 for episode 1 is -41767.550308567654\n"
     ]
    },
    {
     "output_type": "display_data",
     "data": {
      "application/vnd.jupyter.widget-view+json": {
       "version_major": 2,
       "version_minor": 0,
       "model_id": "fd4d22ecb5c54499aa97e26f083fa014"
      },
      "text/plain": [
       "Train:   0%|          | 0/6021 [00:00<?, ?it/s]"
      ]
     },
     "metadata": {}
    },
    {
     "output_type": "stream",
     "name": "stdout",
     "text": [
      "Train reward after a 8 for episode 1 is -41647.09873341553\n"
     ]
    },
    {
     "output_type": "display_data",
     "data": {
      "application/vnd.jupyter.widget-view+json": {
       "version_major": 2,
       "version_minor": 0,
       "model_id": "17554e2f85674513bf1f44eee95acdbb"
      },
      "text/plain": [
       "Train:   0%|          | 0/6021 [00:00<?, ?it/s]"
      ]
     },
     "metadata": {}
    },
    {
     "output_type": "stream",
     "name": "stdout",
     "text": [
      "Train reward after a 9 for episode 1 is -41759.492333745235\n",
      "Average reward for sub epoch for episode 1 is -418005.5575181907\n"
     ]
    },
    {
     "output_type": "display_data",
     "data": {
      "application/vnd.jupyter.widget-view+json": {
       "version_major": 2,
       "version_minor": 0,
       "model_id": "0c5c57efa91c4433b1a052b455f20427"
      },
      "text/plain": [
       "Validation:   0%|          | 0/306431 [00:00<?, ?it/s]"
      ]
     },
     "metadata": {}
    },
    {
     "output_type": "stream",
     "name": "stdout",
     "text": [
      "Validation Overall reward = -49034.97.  Validation Average Reward = -0.1600\n"
     ]
    },
    {
     "output_type": "display_data",
     "data": {
      "application/vnd.jupyter.widget-view+json": {
       "version_major": 2,
       "version_minor": 0,
       "model_id": "f861b7f662514e6ba0fc9a30bc3b0482"
      },
      "text/plain": [
       "Sub Epoch:   0%|          | 0/10 [00:00<?, ?it/s]"
      ]
     },
     "metadata": {}
    },
    {
     "output_type": "display_data",
     "data": {
      "application/vnd.jupyter.widget-view+json": {
       "version_major": 2,
       "version_minor": 0,
       "model_id": "4500ac2d707341c1bec86457c0fbc43d"
      },
      "text/plain": [
       "Train:   0%|          | 0/6377 [00:00<?, ?it/s]"
      ]
     },
     "metadata": {}
    },
    {
     "output_type": "stream",
     "name": "stdout",
     "text": [
      "Train reward after a 0 for episode 2 is -36674.77831548171\n"
     ]
    },
    {
     "output_type": "display_data",
     "data": {
      "application/vnd.jupyter.widget-view+json": {
       "version_major": 2,
       "version_minor": 0,
       "model_id": "30a9cb0771204bc2bb013bf770c34b80"
      },
      "text/plain": [
       "Train:   0%|          | 0/6377 [00:00<?, ?it/s]"
      ]
     },
     "metadata": {}
    },
    {
     "output_type": "stream",
     "name": "stdout",
     "text": [
      "Train reward after a 1 for episode 2 is -36908.99542836457\n"
     ]
    },
    {
     "output_type": "display_data",
     "data": {
      "application/vnd.jupyter.widget-view+json": {
       "version_major": 2,
       "version_minor": 0,
       "model_id": "6f83a7a614614bddb6f4515e6b0cfcb4"
      },
      "text/plain": [
       "Train:   0%|          | 0/6377 [00:00<?, ?it/s]"
      ]
     },
     "metadata": {}
    },
    {
     "output_type": "error",
     "ename": "KeyboardInterrupt",
     "evalue": "",
     "traceback": [
      "\u001b[0;31m---------------------------------------------------------------------------\u001b[0m",
      "\u001b[0;31mKeyboardInterrupt\u001b[0m                         Traceback (most recent call last)",
      "\u001b[0;32m<ipython-input-18-2d2a328f376c>\u001b[0m in \u001b[0;36m<module>\u001b[0;34m()\u001b[0m\n\u001b[1;32m     38\u001b[0m \u001b[0;34m\u001b[0m\u001b[0m\n\u001b[1;32m     39\u001b[0m                 \u001b[0;31m# Perform one step of the optimization (on the policy network)\u001b[0m\u001b[0;34m\u001b[0m\u001b[0;34m\u001b[0m\u001b[0;34m\u001b[0m\u001b[0m\n\u001b[0;32m---> 40\u001b[0;31m                 \u001b[0moptimize_model\u001b[0m\u001b[0;34m(\u001b[0m\u001b[0mmemory\u001b[0m\u001b[0;34m)\u001b[0m\u001b[0;34m\u001b[0m\u001b[0;34m\u001b[0m\u001b[0m\n\u001b[0m\u001b[1;32m     41\u001b[0m \u001b[0;34m\u001b[0m\u001b[0m\n\u001b[1;32m     42\u001b[0m                 \u001b[0;31m# Update the target network, copying all weights and biases in DQN\u001b[0m\u001b[0;34m\u001b[0m\u001b[0;34m\u001b[0m\u001b[0;34m\u001b[0m\u001b[0m\n",
      "\u001b[0;32m<ipython-input-13-4822e0dee7a6>\u001b[0m in \u001b[0;36moptimize_model\u001b[0;34m(memory)\u001b[0m\n\u001b[1;32m     37\u001b[0m \u001b[0;34m\u001b[0m\u001b[0m\n\u001b[1;32m     38\u001b[0m     \u001b[0;31m# Optimize the model\u001b[0m\u001b[0;34m\u001b[0m\u001b[0;34m\u001b[0m\u001b[0;34m\u001b[0m\u001b[0m\n\u001b[0;32m---> 39\u001b[0;31m     \u001b[0moptimizer\u001b[0m\u001b[0;34m.\u001b[0m\u001b[0mzero_grad\u001b[0m\u001b[0;34m(\u001b[0m\u001b[0;34m)\u001b[0m\u001b[0;34m\u001b[0m\u001b[0;34m\u001b[0m\u001b[0m\n\u001b[0m\u001b[1;32m     40\u001b[0m     \u001b[0mloss\u001b[0m\u001b[0;34m.\u001b[0m\u001b[0mbackward\u001b[0m\u001b[0;34m(\u001b[0m\u001b[0;34m)\u001b[0m\u001b[0;34m\u001b[0m\u001b[0;34m\u001b[0m\u001b[0m\n\u001b[1;32m     41\u001b[0m     \u001b[0;32mfor\u001b[0m \u001b[0mparam\u001b[0m \u001b[0;32min\u001b[0m \u001b[0mpolicy_net\u001b[0m\u001b[0;34m.\u001b[0m\u001b[0mparameters\u001b[0m\u001b[0;34m(\u001b[0m\u001b[0;34m)\u001b[0m\u001b[0;34m:\u001b[0m\u001b[0;34m\u001b[0m\u001b[0;34m\u001b[0m\u001b[0m\n",
      "\u001b[0;32m/home/mohit/anaconda3/envs/ITU/lib/python3.6/site-packages/torch/optim/optimizer.py\u001b[0m in \u001b[0;36mzero_grad\u001b[0;34m(self, set_to_none)\u001b[0m\n\u001b[1;32m    213\u001b[0m                                 \u001b[0mp\u001b[0m\u001b[0;34m.\u001b[0m\u001b[0mgrad\u001b[0m\u001b[0;34m.\u001b[0m\u001b[0mdetach_\u001b[0m\u001b[0;34m(\u001b[0m\u001b[0;34m)\u001b[0m\u001b[0;34m\u001b[0m\u001b[0;34m\u001b[0m\u001b[0m\n\u001b[1;32m    214\u001b[0m                             \u001b[0;32melse\u001b[0m\u001b[0;34m:\u001b[0m\u001b[0;34m\u001b[0m\u001b[0;34m\u001b[0m\u001b[0m\n\u001b[0;32m--> 215\u001b[0;31m                                 \u001b[0mp\u001b[0m\u001b[0;34m.\u001b[0m\u001b[0mgrad\u001b[0m\u001b[0;34m.\u001b[0m\u001b[0mrequires_grad_\u001b[0m\u001b[0;34m(\u001b[0m\u001b[0;32mFalse\u001b[0m\u001b[0;34m)\u001b[0m\u001b[0;34m\u001b[0m\u001b[0;34m\u001b[0m\u001b[0m\n\u001b[0m\u001b[1;32m    216\u001b[0m                             \u001b[0mp\u001b[0m\u001b[0;34m.\u001b[0m\u001b[0mgrad\u001b[0m\u001b[0;34m.\u001b[0m\u001b[0mzero_\u001b[0m\u001b[0;34m(\u001b[0m\u001b[0;34m)\u001b[0m\u001b[0;34m\u001b[0m\u001b[0;34m\u001b[0m\u001b[0m\n\u001b[1;32m    217\u001b[0m \u001b[0;34m\u001b[0m\u001b[0m\n",
      "\u001b[0;32m/home/mohit/anaconda3/envs/ITU/lib/python3.6/site-packages/torch/_tensor.py\u001b[0m in \u001b[0;36mgrad\u001b[0;34m(self)\u001b[0m\n\u001b[1;32m    977\u001b[0m             \u001b[0;32mreturn\u001b[0m \u001b[0mhandle_torch_function\u001b[0m\u001b[0;34m(\u001b[0m\u001b[0mTensor\u001b[0m\u001b[0;34m.\u001b[0m\u001b[0mgrad\u001b[0m\u001b[0;34m.\u001b[0m\u001b[0m__get__\u001b[0m\u001b[0;34m,\u001b[0m \u001b[0;34m(\u001b[0m\u001b[0mself\u001b[0m\u001b[0;34m,\u001b[0m\u001b[0;34m)\u001b[0m\u001b[0;34m,\u001b[0m \u001b[0mself\u001b[0m\u001b[0;34m)\u001b[0m  \u001b[0;31m# type: ignore[attr-defined]\u001b[0m\u001b[0;34m\u001b[0m\u001b[0;34m\u001b[0m\u001b[0m\n\u001b[1;32m    978\u001b[0m \u001b[0;34m\u001b[0m\u001b[0m\n\u001b[0;32m--> 979\u001b[0;31m         \u001b[0;32mif\u001b[0m \u001b[0mself\u001b[0m\u001b[0;34m.\u001b[0m\u001b[0mrequires_grad\u001b[0m \u001b[0;32mand\u001b[0m \u001b[0;32mnot\u001b[0m \u001b[0mhasattr\u001b[0m\u001b[0;34m(\u001b[0m\u001b[0mself\u001b[0m\u001b[0;34m,\u001b[0m \u001b[0;34m\"retains_grad\"\u001b[0m\u001b[0;34m)\u001b[0m \u001b[0;32mand\u001b[0m \u001b[0;32mnot\u001b[0m \u001b[0mself\u001b[0m\u001b[0;34m.\u001b[0m\u001b[0mis_leaf\u001b[0m \u001b[0;32mand\u001b[0m \u001b[0mself\u001b[0m\u001b[0;34m.\u001b[0m\u001b[0m_grad\u001b[0m \u001b[0;32mis\u001b[0m \u001b[0;32mNone\u001b[0m\u001b[0;34m:\u001b[0m\u001b[0;34m\u001b[0m\u001b[0;34m\u001b[0m\u001b[0m\n\u001b[0m\u001b[1;32m    980\u001b[0m             warnings.warn(\"The .grad attribute of a Tensor that is not a leaf Tensor is being accessed. Its .grad \"\n\u001b[1;32m    981\u001b[0m                           \u001b[0;34m\"attribute won't be populated during autograd.backward(). If you indeed want the gradient \"\u001b[0m\u001b[0;34m\u001b[0m\u001b[0;34m\u001b[0m\u001b[0m\n",
      "\u001b[0;31mKeyboardInterrupt\u001b[0m: "
     ]
    }
   ],
   "metadata": {}
  },
  {
   "cell_type": "code",
   "execution_count": null,
   "source": [],
   "outputs": [],
   "metadata": {}
  }
 ],
 "metadata": {
  "kernelspec": {
   "name": "python3",
   "display_name": "Python 3.6.13 64-bit ('ITU': conda)"
  },
  "language_info": {
   "name": "python",
   "version": "3.6.13",
   "mimetype": "text/x-python",
   "codemirror_mode": {
    "name": "ipython",
    "version": 3
   },
   "pygments_lexer": "ipython3",
   "nbconvert_exporter": "python",
   "file_extension": ".py"
  },
  "orig_nbformat": 2,
  "interpreter": {
   "hash": "704f8173b5278a07e1dad217082faca02c99b0dff81b24cc095b855fb1648990"
  }
 },
 "nbformat": 4,
 "nbformat_minor": 2
}